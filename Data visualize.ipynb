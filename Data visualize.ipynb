{
 "cells": [
  {
   "cell_type": "code",
   "execution_count": 1,
   "id": "9a21afb3",
   "metadata": {},
   "outputs": [],
   "source": [
    "import numpy as np \n",
    "import pandas as pd \n",
    "import matplotlib.pyplot as plt\n",
    "import keras\n",
    "from warnings import filterwarnings\n",
    "filterwarnings('ignore')\n",
    "import os\n",
    "import re"
   ]
  },
  {
   "cell_type": "code",
   "execution_count": 2,
   "id": "b3829e8e",
   "metadata": {},
   "outputs": [
    {
     "name": "stdout",
     "output_type": "stream",
     "text": [
      "(334119, 31)\n"
     ]
    }
   ],
   "source": [
    "file=\"Reviews.csv\"\n",
    "data= pd.read_csv(file)\n",
    "print(data.shape)"
   ]
  },
  {
   "cell_type": "code",
   "execution_count": 3,
   "id": "47e3fedd",
   "metadata": {},
   "outputs": [
    {
     "data": {
      "text/html": [
       "<div>\n",
       "<style scoped>\n",
       "    .dataframe tbody tr th:only-of-type {\n",
       "        vertical-align: middle;\n",
       "    }\n",
       "\n",
       "    .dataframe tbody tr th {\n",
       "        vertical-align: top;\n",
       "    }\n",
       "\n",
       "    .dataframe thead th {\n",
       "        text-align: right;\n",
       "    }\n",
       "</style>\n",
       "<table border=\"1\" class=\"dataframe\">\n",
       "  <thead>\n",
       "    <tr style=\"text-align: right;\">\n",
       "      <th></th>\n",
       "      <th>Unnamed: 0</th>\n",
       "      <th>ï»¿</th>\n",
       "      <th>ratings_overall</th>\n",
       "      <th>labels</th>\n",
       "      <th>likeCount</th>\n",
       "      <th>latitude</th>\n",
       "      <th>longitude</th>\n",
       "      <th>primary_cuisine_id</th>\n",
       "      <th>review_number</th>\n",
       "      <th>restaurant_overall_rating</th>\n",
       "    </tr>\n",
       "  </thead>\n",
       "  <tbody>\n",
       "    <tr>\n",
       "      <th>count</th>\n",
       "      <td>334119.000000</td>\n",
       "      <td>334119.000000</td>\n",
       "      <td>334119.000000</td>\n",
       "      <td>334119.000000</td>\n",
       "      <td>334119.000000</td>\n",
       "      <td>334119.000000</td>\n",
       "      <td>334119.000000</td>\n",
       "      <td>334119.000000</td>\n",
       "      <td>334119.000000</td>\n",
       "      <td>334119.000000</td>\n",
       "    </tr>\n",
       "    <tr>\n",
       "      <th>mean</th>\n",
       "      <td>167059.000000</td>\n",
       "      <td>168411.559947</td>\n",
       "      <td>2.817562</td>\n",
       "      <td>1.916958</td>\n",
       "      <td>0.241884</td>\n",
       "      <td>23.668077</td>\n",
       "      <td>90.623229</td>\n",
       "      <td>127.527136</td>\n",
       "      <td>4014.909981</td>\n",
       "      <td>3.841418</td>\n",
       "    </tr>\n",
       "    <tr>\n",
       "      <th>std</th>\n",
       "      <td>96451.991633</td>\n",
       "      <td>96817.799309</td>\n",
       "      <td>1.684886</td>\n",
       "      <td>0.935649</td>\n",
       "      <td>0.629411</td>\n",
       "      <td>0.528833</td>\n",
       "      <td>0.528335</td>\n",
       "      <td>54.243513</td>\n",
       "      <td>5812.797803</td>\n",
       "      <td>0.445709</td>\n",
       "    </tr>\n",
       "    <tr>\n",
       "      <th>min</th>\n",
       "      <td>0.000000</td>\n",
       "      <td>0.000000</td>\n",
       "      <td>1.000000</td>\n",
       "      <td>1.000000</td>\n",
       "      <td>-2.000000</td>\n",
       "      <td>22.269991</td>\n",
       "      <td>90.210323</td>\n",
       "      <td>0.000000</td>\n",
       "      <td>0.000000</td>\n",
       "      <td>0.000000</td>\n",
       "    </tr>\n",
       "    <tr>\n",
       "      <th>25%</th>\n",
       "      <td>83529.500000</td>\n",
       "      <td>84763.500000</td>\n",
       "      <td>1.000000</td>\n",
       "      <td>1.000000</td>\n",
       "      <td>0.000000</td>\n",
       "      <td>23.741879</td>\n",
       "      <td>90.371986</td>\n",
       "      <td>85.000000</td>\n",
       "      <td>488.000000</td>\n",
       "      <td>3.600000</td>\n",
       "    </tr>\n",
       "    <tr>\n",
       "      <th>50%</th>\n",
       "      <td>167059.000000</td>\n",
       "      <td>168499.000000</td>\n",
       "      <td>3.000000</td>\n",
       "      <td>2.000000</td>\n",
       "      <td>0.000000</td>\n",
       "      <td>23.773776</td>\n",
       "      <td>90.405709</td>\n",
       "      <td>86.000000</td>\n",
       "      <td>1584.000000</td>\n",
       "      <td>3.900000</td>\n",
       "    </tr>\n",
       "    <tr>\n",
       "      <th>75%</th>\n",
       "      <td>250588.500000</td>\n",
       "      <td>252235.500000</td>\n",
       "      <td>5.000000</td>\n",
       "      <td>3.000000</td>\n",
       "      <td>0.000000</td>\n",
       "      <td>23.810406</td>\n",
       "      <td>90.425728</td>\n",
       "      <td>193.000000</td>\n",
       "      <td>4697.000000</td>\n",
       "      <td>4.100000</td>\n",
       "    </tr>\n",
       "    <tr>\n",
       "      <th>max</th>\n",
       "      <td>334118.000000</td>\n",
       "      <td>335947.000000</td>\n",
       "      <td>5.000000</td>\n",
       "      <td>3.000000</td>\n",
       "      <td>51.000000</td>\n",
       "      <td>24.919806</td>\n",
       "      <td>91.910593</td>\n",
       "      <td>249.000000</td>\n",
       "      <td>32993.000000</td>\n",
       "      <td>5.000000</td>\n",
       "    </tr>\n",
       "  </tbody>\n",
       "</table>\n",
       "</div>"
      ],
      "text/plain": [
       "          Unnamed: 0            ï»¿  ratings_overall         labels  \\\n",
       "count  334119.000000  334119.000000    334119.000000  334119.000000   \n",
       "mean   167059.000000  168411.559947         2.817562       1.916958   \n",
       "std     96451.991633   96817.799309         1.684886       0.935649   \n",
       "min         0.000000       0.000000         1.000000       1.000000   \n",
       "25%     83529.500000   84763.500000         1.000000       1.000000   \n",
       "50%    167059.000000  168499.000000         3.000000       2.000000   \n",
       "75%    250588.500000  252235.500000         5.000000       3.000000   \n",
       "max    334118.000000  335947.000000         5.000000       3.000000   \n",
       "\n",
       "           likeCount       latitude      longitude  primary_cuisine_id  \\\n",
       "count  334119.000000  334119.000000  334119.000000       334119.000000   \n",
       "mean        0.241884      23.668077      90.623229          127.527136   \n",
       "std         0.629411       0.528833       0.528335           54.243513   \n",
       "min        -2.000000      22.269991      90.210323            0.000000   \n",
       "25%         0.000000      23.741879      90.371986           85.000000   \n",
       "50%         0.000000      23.773776      90.405709           86.000000   \n",
       "75%         0.000000      23.810406      90.425728          193.000000   \n",
       "max        51.000000      24.919806      91.910593          249.000000   \n",
       "\n",
       "       review_number  restaurant_overall_rating  \n",
       "count  334119.000000              334119.000000  \n",
       "mean     4014.909981                   3.841418  \n",
       "std      5812.797803                   0.445709  \n",
       "min         0.000000                   0.000000  \n",
       "25%       488.000000                   3.600000  \n",
       "50%      1584.000000                   3.900000  \n",
       "75%      4697.000000                   4.100000  \n",
       "max     32993.000000                   5.000000  "
      ]
     },
     "execution_count": 3,
     "metadata": {},
     "output_type": "execute_result"
    }
   ],
   "source": [
    "data.describe()"
   ]
  },
  {
   "cell_type": "code",
   "execution_count": 4,
   "id": "8b1ca090",
   "metadata": {},
   "outputs": [
    {
     "name": "stdout",
     "output_type": "stream",
     "text": [
      "<class 'pandas.core.frame.DataFrame'>\n",
      "RangeIndex: 334119 entries, 0 to 334118\n",
      "Data columns (total 31 columns):\n",
      " #   Column                     Non-Null Count   Dtype  \n",
      "---  ------                     --------------   -----  \n",
      " 0   Unnamed: 0                 334119 non-null  int64  \n",
      " 1   ï»¿                        334119 non-null  int64  \n",
      " 2   uuid                       334119 non-null  object \n",
      " 3   createdAt                  334119 non-null  object \n",
      " 4   updatedAt                  334119 non-null  object \n",
      " 5   text                       334119 non-null  object \n",
      " 6   isAnonymous                334119 non-null  bool   \n",
      " 7   reviewerName               334119 non-null  object \n",
      " 8   reviewerId                 334119 non-null  object \n",
      " 9   ratings_overall            334119 non-null  int64  \n",
      " 10  labels                     334119 non-null  int64  \n",
      " 11  ratings                    334119 non-null  object \n",
      " 12  type                       334119 non-null  object \n",
      " 13  likeCount                  334119 non-null  int64  \n",
      " 14  isLiked                    334119 non-null  bool   \n",
      " 15  code                       334119 non-null  object \n",
      " 16  name                       334119 non-null  object \n",
      " 17  address                    334119 non-null  object \n",
      " 18  city                       334119 non-null  object \n",
      " 19  post_code                  334119 non-null  object \n",
      " 20  latitude                   334119 non-null  float64\n",
      " 21  longitude                  334119 non-null  float64\n",
      " 22  primary_cuisine            334119 non-null  object \n",
      " 23  primary_cuisine_id         334119 non-null  int64  \n",
      " 24  cuisines                   334119 non-null  object \n",
      " 25  review_number              334119 non-null  int64  \n",
      " 26  restaurant_overall_rating  334119 non-null  float64\n",
      " 27  hero_image                 334119 non-null  object \n",
      " 28  hero_listing_image         334119 non-null  object \n",
      " 29  vertical_type_ids          334119 non-null  object \n",
      " 30  web_path                   334119 non-null  object \n",
      "dtypes: bool(2), float64(3), int64(7), object(19)\n",
      "memory usage: 74.6+ MB\n"
     ]
    }
   ],
   "source": [
    "data.info()"
   ]
  },
  {
   "cell_type": "code",
   "execution_count": 5,
   "id": "0fd901d3",
   "metadata": {},
   "outputs": [
    {
     "data": {
      "text/plain": [
       "Unnamed: 0                   0\n",
       "ï»¿                          0\n",
       "uuid                         0\n",
       "createdAt                    0\n",
       "updatedAt                    0\n",
       "text                         0\n",
       "isAnonymous                  0\n",
       "reviewerName                 0\n",
       "reviewerId                   0\n",
       "ratings_overall              0\n",
       "labels                       0\n",
       "ratings                      0\n",
       "type                         0\n",
       "likeCount                    0\n",
       "isLiked                      0\n",
       "code                         0\n",
       "name                         0\n",
       "address                      0\n",
       "city                         0\n",
       "post_code                    0\n",
       "latitude                     0\n",
       "longitude                    0\n",
       "primary_cuisine              0\n",
       "primary_cuisine_id           0\n",
       "cuisines                     0\n",
       "review_number                0\n",
       "restaurant_overall_rating    0\n",
       "hero_image                   0\n",
       "hero_listing_image           0\n",
       "vertical_type_ids            0\n",
       "web_path                     0\n",
       "dtype: int64"
      ]
     },
     "execution_count": 5,
     "metadata": {},
     "output_type": "execute_result"
    }
   ],
   "source": [
    "data.isnull().sum()"
   ]
  },
  {
   "cell_type": "code",
   "execution_count": 6,
   "id": "0d4a79e9",
   "metadata": {},
   "outputs": [
    {
     "data": {
      "text/plain": [
       "0                                     too much small amount\n",
       "1                                      very small in amount\n",
       "2         food average but their desert booter halwa and...\n",
       "3                                           fresh and tasty\n",
       "4                             everything i ordered was good\n",
       "                                ...                        \n",
       "334114    food was good as usual but the behavior of the...\n",
       "334115                                            the worst\n",
       "334116                                            very nice\n",
       "334117                                                 good\n",
       "334118    fcking scammers dont order from here bun er up...\n",
       "Name: text, Length: 334119, dtype: object"
      ]
     },
     "execution_count": 6,
     "metadata": {},
     "output_type": "execute_result"
    }
   ],
   "source": [
    "data.text.infer_objects()"
   ]
  },
  {
   "cell_type": "code",
   "execution_count": 7,
   "id": "55fd05f1",
   "metadata": {},
   "outputs": [
    {
     "data": {
      "text/html": [
       "<div>\n",
       "<style scoped>\n",
       "    .dataframe tbody tr th:only-of-type {\n",
       "        vertical-align: middle;\n",
       "    }\n",
       "\n",
       "    .dataframe tbody tr th {\n",
       "        vertical-align: top;\n",
       "    }\n",
       "\n",
       "    .dataframe thead th {\n",
       "        text-align: right;\n",
       "    }\n",
       "</style>\n",
       "<table border=\"1\" class=\"dataframe\">\n",
       "  <thead>\n",
       "    <tr style=\"text-align: right;\">\n",
       "      <th></th>\n",
       "      <th>Unnamed: 0</th>\n",
       "      <th>ï»¿</th>\n",
       "      <th>uuid</th>\n",
       "      <th>createdAt</th>\n",
       "      <th>updatedAt</th>\n",
       "      <th>text</th>\n",
       "      <th>isAnonymous</th>\n",
       "      <th>reviewerName</th>\n",
       "      <th>reviewerId</th>\n",
       "      <th>ratings_overall</th>\n",
       "      <th>...</th>\n",
       "      <th>longitude</th>\n",
       "      <th>primary_cuisine</th>\n",
       "      <th>primary_cuisine_id</th>\n",
       "      <th>cuisines</th>\n",
       "      <th>review_number</th>\n",
       "      <th>restaurant_overall_rating</th>\n",
       "      <th>hero_image</th>\n",
       "      <th>hero_listing_image</th>\n",
       "      <th>vertical_type_ids</th>\n",
       "      <th>web_path</th>\n",
       "    </tr>\n",
       "  </thead>\n",
       "  <tbody>\n",
       "    <tr>\n",
       "      <th>0</th>\n",
       "      <td>0</td>\n",
       "      <td>0</td>\n",
       "      <td>68e8f769-a0f0-460c-bfb9-16662fcc1e17</td>\n",
       "      <td>2023-11-02T06:48:08Z</td>\n",
       "      <td>2023-11-02T06:48:08Z</td>\n",
       "      <td>too much small amount</td>\n",
       "      <td>False</td>\n",
       "      <td>MOON</td>\n",
       "      <td>bdaclwhn</td>\n",
       "      <td>2</td>\n",
       "      <td>...</td>\n",
       "      <td>90.39168</td>\n",
       "      <td>Curry</td>\n",
       "      <td>195</td>\n",
       "      <td>['Curry', 'Rice Dishes', 'Bangladeshi', 'Asian']</td>\n",
       "      <td>146</td>\n",
       "      <td>3.7</td>\n",
       "      <td>https://images.deliveryhero.io/image/fd-bd/LH/...</td>\n",
       "      <td>https://images.deliveryhero.io/image/fd-bd/LH/...</td>\n",
       "      <td>['restaurants', 'home_based_kitchen']</td>\n",
       "      <td>https://foodpanda.com.bd/restaurant/a02g/mahis...</td>\n",
       "    </tr>\n",
       "    <tr>\n",
       "      <th>1</th>\n",
       "      <td>1</td>\n",
       "      <td>1</td>\n",
       "      <td>706a1e43-7475-4d7f-8488-cb8ed2ea8991</td>\n",
       "      <td>2023-10-27T07:35:53Z</td>\n",
       "      <td>2023-10-27T07:35:53Z</td>\n",
       "      <td>very small in amount</td>\n",
       "      <td>False</td>\n",
       "      <td>MOON</td>\n",
       "      <td>bdaclwhn</td>\n",
       "      <td>2</td>\n",
       "      <td>...</td>\n",
       "      <td>90.39168</td>\n",
       "      <td>Curry</td>\n",
       "      <td>195</td>\n",
       "      <td>['Curry', 'Rice Dishes', 'Bangladeshi', 'Asian']</td>\n",
       "      <td>146</td>\n",
       "      <td>3.7</td>\n",
       "      <td>https://images.deliveryhero.io/image/fd-bd/LH/...</td>\n",
       "      <td>https://images.deliveryhero.io/image/fd-bd/LH/...</td>\n",
       "      <td>['restaurants', 'home_based_kitchen']</td>\n",
       "      <td>https://foodpanda.com.bd/restaurant/a02g/mahis...</td>\n",
       "    </tr>\n",
       "    <tr>\n",
       "      <th>2</th>\n",
       "      <td>2</td>\n",
       "      <td>2</td>\n",
       "      <td>16cd99a3-7295-432e-b193-1551df62d255</td>\n",
       "      <td>2023-10-25T18:09:17Z</td>\n",
       "      <td>2023-10-25T18:09:17Z</td>\n",
       "      <td>food average but their desert booter halwa and...</td>\n",
       "      <td>False</td>\n",
       "      <td>SALMAN</td>\n",
       "      <td>bdjrt0zq</td>\n",
       "      <td>3</td>\n",
       "      <td>...</td>\n",
       "      <td>90.39168</td>\n",
       "      <td>Curry</td>\n",
       "      <td>195</td>\n",
       "      <td>['Curry', 'Rice Dishes', 'Bangladeshi', 'Asian']</td>\n",
       "      <td>146</td>\n",
       "      <td>3.7</td>\n",
       "      <td>https://images.deliveryhero.io/image/fd-bd/LH/...</td>\n",
       "      <td>https://images.deliveryhero.io/image/fd-bd/LH/...</td>\n",
       "      <td>['restaurants', 'home_based_kitchen']</td>\n",
       "      <td>https://foodpanda.com.bd/restaurant/a02g/mahis...</td>\n",
       "    </tr>\n",
       "    <tr>\n",
       "      <th>3</th>\n",
       "      <td>3</td>\n",
       "      <td>3</td>\n",
       "      <td>61a9fdf3-ad6b-4d23-9436-1f2f596bbcff</td>\n",
       "      <td>2023-10-25T07:48:39Z</td>\n",
       "      <td>2023-10-25T07:48:39Z</td>\n",
       "      <td>fresh and tasty</td>\n",
       "      <td>False</td>\n",
       "      <td>GOLAM</td>\n",
       "      <td>b6hrp8of</td>\n",
       "      <td>5</td>\n",
       "      <td>...</td>\n",
       "      <td>90.39168</td>\n",
       "      <td>Curry</td>\n",
       "      <td>195</td>\n",
       "      <td>['Curry', 'Rice Dishes', 'Bangladeshi', 'Asian']</td>\n",
       "      <td>146</td>\n",
       "      <td>3.7</td>\n",
       "      <td>https://images.deliveryhero.io/image/fd-bd/LH/...</td>\n",
       "      <td>https://images.deliveryhero.io/image/fd-bd/LH/...</td>\n",
       "      <td>['restaurants', 'home_based_kitchen']</td>\n",
       "      <td>https://foodpanda.com.bd/restaurant/a02g/mahis...</td>\n",
       "    </tr>\n",
       "    <tr>\n",
       "      <th>4</th>\n",
       "      <td>4</td>\n",
       "      <td>4</td>\n",
       "      <td>a7835cdf-2c1f-4cf0-b9d5-2777d904d746</td>\n",
       "      <td>2023-10-15T13:37:20Z</td>\n",
       "      <td>2023-10-15T13:37:20Z</td>\n",
       "      <td>everything i ordered was good</td>\n",
       "      <td>False</td>\n",
       "      <td>FERZANA</td>\n",
       "      <td>bddrkjrd</td>\n",
       "      <td>4</td>\n",
       "      <td>...</td>\n",
       "      <td>90.39168</td>\n",
       "      <td>Curry</td>\n",
       "      <td>195</td>\n",
       "      <td>['Curry', 'Rice Dishes', 'Bangladeshi', 'Asian']</td>\n",
       "      <td>146</td>\n",
       "      <td>3.7</td>\n",
       "      <td>https://images.deliveryhero.io/image/fd-bd/LH/...</td>\n",
       "      <td>https://images.deliveryhero.io/image/fd-bd/LH/...</td>\n",
       "      <td>['restaurants', 'home_based_kitchen']</td>\n",
       "      <td>https://foodpanda.com.bd/restaurant/a02g/mahis...</td>\n",
       "    </tr>\n",
       "  </tbody>\n",
       "</table>\n",
       "<p>5 rows × 31 columns</p>\n",
       "</div>"
      ],
      "text/plain": [
       "   Unnamed: 0  ï»¿                                  uuid  \\\n",
       "0           0    0  68e8f769-a0f0-460c-bfb9-16662fcc1e17   \n",
       "1           1    1  706a1e43-7475-4d7f-8488-cb8ed2ea8991   \n",
       "2           2    2  16cd99a3-7295-432e-b193-1551df62d255   \n",
       "3           3    3  61a9fdf3-ad6b-4d23-9436-1f2f596bbcff   \n",
       "4           4    4  a7835cdf-2c1f-4cf0-b9d5-2777d904d746   \n",
       "\n",
       "              createdAt             updatedAt  \\\n",
       "0  2023-11-02T06:48:08Z  2023-11-02T06:48:08Z   \n",
       "1  2023-10-27T07:35:53Z  2023-10-27T07:35:53Z   \n",
       "2  2023-10-25T18:09:17Z  2023-10-25T18:09:17Z   \n",
       "3  2023-10-25T07:48:39Z  2023-10-25T07:48:39Z   \n",
       "4  2023-10-15T13:37:20Z  2023-10-15T13:37:20Z   \n",
       "\n",
       "                                                text  isAnonymous  \\\n",
       "0                              too much small amount        False   \n",
       "1                               very small in amount        False   \n",
       "2  food average but their desert booter halwa and...        False   \n",
       "3                                    fresh and tasty        False   \n",
       "4                      everything i ordered was good        False   \n",
       "\n",
       "  reviewerName reviewerId  ratings_overall  ...  longitude primary_cuisine  \\\n",
       "0         MOON   bdaclwhn                2  ...   90.39168           Curry   \n",
       "1         MOON   bdaclwhn                2  ...   90.39168           Curry   \n",
       "2       SALMAN   bdjrt0zq                3  ...   90.39168           Curry   \n",
       "3        GOLAM   b6hrp8of                5  ...   90.39168           Curry   \n",
       "4      FERZANA   bddrkjrd                4  ...   90.39168           Curry   \n",
       "\n",
       "  primary_cuisine_id                                          cuisines  \\\n",
       "0                195  ['Curry', 'Rice Dishes', 'Bangladeshi', 'Asian']   \n",
       "1                195  ['Curry', 'Rice Dishes', 'Bangladeshi', 'Asian']   \n",
       "2                195  ['Curry', 'Rice Dishes', 'Bangladeshi', 'Asian']   \n",
       "3                195  ['Curry', 'Rice Dishes', 'Bangladeshi', 'Asian']   \n",
       "4                195  ['Curry', 'Rice Dishes', 'Bangladeshi', 'Asian']   \n",
       "\n",
       "   review_number restaurant_overall_rating  \\\n",
       "0            146                       3.7   \n",
       "1            146                       3.7   \n",
       "2            146                       3.7   \n",
       "3            146                       3.7   \n",
       "4            146                       3.7   \n",
       "\n",
       "                                          hero_image  \\\n",
       "0  https://images.deliveryhero.io/image/fd-bd/LH/...   \n",
       "1  https://images.deliveryhero.io/image/fd-bd/LH/...   \n",
       "2  https://images.deliveryhero.io/image/fd-bd/LH/...   \n",
       "3  https://images.deliveryhero.io/image/fd-bd/LH/...   \n",
       "4  https://images.deliveryhero.io/image/fd-bd/LH/...   \n",
       "\n",
       "                                  hero_listing_image  \\\n",
       "0  https://images.deliveryhero.io/image/fd-bd/LH/...   \n",
       "1  https://images.deliveryhero.io/image/fd-bd/LH/...   \n",
       "2  https://images.deliveryhero.io/image/fd-bd/LH/...   \n",
       "3  https://images.deliveryhero.io/image/fd-bd/LH/...   \n",
       "4  https://images.deliveryhero.io/image/fd-bd/LH/...   \n",
       "\n",
       "                       vertical_type_ids  \\\n",
       "0  ['restaurants', 'home_based_kitchen']   \n",
       "1  ['restaurants', 'home_based_kitchen']   \n",
       "2  ['restaurants', 'home_based_kitchen']   \n",
       "3  ['restaurants', 'home_based_kitchen']   \n",
       "4  ['restaurants', 'home_based_kitchen']   \n",
       "\n",
       "                                            web_path  \n",
       "0  https://foodpanda.com.bd/restaurant/a02g/mahis...  \n",
       "1  https://foodpanda.com.bd/restaurant/a02g/mahis...  \n",
       "2  https://foodpanda.com.bd/restaurant/a02g/mahis...  \n",
       "3  https://foodpanda.com.bd/restaurant/a02g/mahis...  \n",
       "4  https://foodpanda.com.bd/restaurant/a02g/mahis...  \n",
       "\n",
       "[5 rows x 31 columns]"
      ]
     },
     "execution_count": 7,
     "metadata": {},
     "output_type": "execute_result"
    }
   ],
   "source": [
    "data.head()"
   ]
  },
  {
   "cell_type": "code",
   "execution_count": 8,
   "id": "fc479315",
   "metadata": {},
   "outputs": [
    {
     "data": {
      "text/html": [
       "<div>\n",
       "<style scoped>\n",
       "    .dataframe tbody tr th:only-of-type {\n",
       "        vertical-align: middle;\n",
       "    }\n",
       "\n",
       "    .dataframe tbody tr th {\n",
       "        vertical-align: top;\n",
       "    }\n",
       "\n",
       "    .dataframe thead th {\n",
       "        text-align: right;\n",
       "    }\n",
       "</style>\n",
       "<table border=\"1\" class=\"dataframe\">\n",
       "  <thead>\n",
       "    <tr style=\"text-align: right;\">\n",
       "      <th></th>\n",
       "      <th>text</th>\n",
       "      <th>reviewerName</th>\n",
       "      <th>ratings_overall</th>\n",
       "      <th>labels</th>\n",
       "    </tr>\n",
       "  </thead>\n",
       "  <tbody>\n",
       "    <tr>\n",
       "      <th>1</th>\n",
       "      <td>very small in amount</td>\n",
       "      <td>MOON</td>\n",
       "      <td>2</td>\n",
       "      <td>1</td>\n",
       "    </tr>\n",
       "    <tr>\n",
       "      <th>2</th>\n",
       "      <td>food average but their desert booter halwa and...</td>\n",
       "      <td>SALMAN</td>\n",
       "      <td>3</td>\n",
       "      <td>2</td>\n",
       "    </tr>\n",
       "    <tr>\n",
       "      <th>3</th>\n",
       "      <td>fresh and tasty</td>\n",
       "      <td>GOLAM</td>\n",
       "      <td>5</td>\n",
       "      <td>3</td>\n",
       "    </tr>\n",
       "    <tr>\n",
       "      <th>4</th>\n",
       "      <td>everything i ordered was good</td>\n",
       "      <td>FERZANA</td>\n",
       "      <td>4</td>\n",
       "      <td>3</td>\n",
       "    </tr>\n",
       "    <tr>\n",
       "      <th>5</th>\n",
       "      <td>kalo jira vhorta balu vhorta not recommended b...</td>\n",
       "      <td>FERZANA</td>\n",
       "      <td>1</td>\n",
       "      <td>1</td>\n",
       "    </tr>\n",
       "    <tr>\n",
       "      <th>6</th>\n",
       "      <td>quantity of dal should be little more otherwis...</td>\n",
       "      <td>FERZANA</td>\n",
       "      <td>4</td>\n",
       "      <td>3</td>\n",
       "    </tr>\n",
       "    <tr>\n",
       "      <th>7</th>\n",
       "      <td>beef was too poor in size quantity aganist pri...</td>\n",
       "      <td>DEDAR</td>\n",
       "      <td>3</td>\n",
       "      <td>2</td>\n",
       "    </tr>\n",
       "    <tr>\n",
       "      <th>8</th>\n",
       "      <td>chicken was not up to the mark and lotpoti was...</td>\n",
       "      <td>IFTEKHER</td>\n",
       "      <td>5</td>\n",
       "      <td>3</td>\n",
       "    </tr>\n",
       "    <tr>\n",
       "      <th>9</th>\n",
       "      <td>lot of sand in kali jeers bortha</td>\n",
       "      <td>MOHAMMAD</td>\n",
       "      <td>4</td>\n",
       "      <td>3</td>\n",
       "    </tr>\n",
       "    <tr>\n",
       "      <th>10</th>\n",
       "      <td>bad</td>\n",
       "      <td>MOHAMMAD</td>\n",
       "      <td>1</td>\n",
       "      <td>1</td>\n",
       "    </tr>\n",
       "    <tr>\n",
       "      <th>11</th>\n",
       "      <td>very good food i chose this home kitchen rando...</td>\n",
       "      <td>SAEM</td>\n",
       "      <td>5</td>\n",
       "      <td>3</td>\n",
       "    </tr>\n",
       "    <tr>\n",
       "      <th>12</th>\n",
       "      <td>honestly eating today s beef ribs and dal felt...</td>\n",
       "      <td>TILENSIA</td>\n",
       "      <td>5</td>\n",
       "      <td>3</td>\n",
       "    </tr>\n",
       "    <tr>\n",
       "      <th>13</th>\n",
       "      <td>i ate good food after a long time the food was...</td>\n",
       "      <td>TILENSIA</td>\n",
       "      <td>5</td>\n",
       "      <td>3</td>\n",
       "    </tr>\n",
       "    <tr>\n",
       "      <th>14</th>\n",
       "      <td>really good clean tasting will order again</td>\n",
       "      <td>MIAN</td>\n",
       "      <td>5</td>\n",
       "      <td>3</td>\n",
       "    </tr>\n",
       "    <tr>\n",
       "      <th>15</th>\n",
       "      <td>too spicy with dry chilli</td>\n",
       "      <td>ILLUMINATI</td>\n",
       "      <td>1</td>\n",
       "      <td>1</td>\n",
       "    </tr>\n",
       "  </tbody>\n",
       "</table>\n",
       "</div>"
      ],
      "text/plain": [
       "                                                 text reviewerName  \\\n",
       "1                                very small in amount         MOON   \n",
       "2   food average but their desert booter halwa and...       SALMAN   \n",
       "3                                     fresh and tasty        GOLAM   \n",
       "4                       everything i ordered was good      FERZANA   \n",
       "5   kalo jira vhorta balu vhorta not recommended b...      FERZANA   \n",
       "6   quantity of dal should be little more otherwis...      FERZANA   \n",
       "7   beef was too poor in size quantity aganist pri...        DEDAR   \n",
       "8   chicken was not up to the mark and lotpoti was...     IFTEKHER   \n",
       "9                    lot of sand in kali jeers bortha     MOHAMMAD   \n",
       "10                                                bad     MOHAMMAD   \n",
       "11  very good food i chose this home kitchen rando...         SAEM   \n",
       "12  honestly eating today s beef ribs and dal felt...     TILENSIA   \n",
       "13  i ate good food after a long time the food was...     TILENSIA   \n",
       "14         really good clean tasting will order again         MIAN   \n",
       "15                         too spicy with dry chilli    ILLUMINATI   \n",
       "\n",
       "    ratings_overall  labels  \n",
       "1                 2       1  \n",
       "2                 3       2  \n",
       "3                 5       3  \n",
       "4                 4       3  \n",
       "5                 1       1  \n",
       "6                 4       3  \n",
       "7                 3       2  \n",
       "8                 5       3  \n",
       "9                 4       3  \n",
       "10                1       1  \n",
       "11                5       3  \n",
       "12                5       3  \n",
       "13                5       3  \n",
       "14                5       3  \n",
       "15                1       1  "
      ]
     },
     "execution_count": 8,
     "metadata": {},
     "output_type": "execute_result"
    }
   ],
   "source": [
    "data.loc[1:15, ['text','reviewerName', 'ratings_overall','labels']]"
   ]
  },
  {
   "cell_type": "code",
   "execution_count": 9,
   "id": "4e1df3f8",
   "metadata": {},
   "outputs": [
    {
     "name": "stdout",
     "output_type": "stream",
     "text": [
      "366\n",
      "3\n",
      "Average Text Length: 57.930898871360206\n"
     ]
    }
   ],
   "source": [
    "print(len(max(data['text'],key=len)))\n",
    "print(len(min(data['text'],key=len)))\n",
    "average_text_length = data['text'].apply(len).mean()\n",
    "print(\"Average Text Length:\", average_text_length)"
   ]
  },
  {
   "cell_type": "code",
   "execution_count": 10,
   "id": "336bf58a",
   "metadata": {},
   "outputs": [],
   "source": [
    "top_10_max_length_indices = data['text'].apply(len).nlargest(10).index\n",
    "top_10_max_length_texts = data.loc[top_10_max_length_indices, 'text']"
   ]
  },
  {
   "cell_type": "code",
   "execution_count": 11,
   "id": "3284e9a3",
   "metadata": {},
   "outputs": [
    {
     "name": "stdout",
     "output_type": "stream",
     "text": [
      "Text 80183 - Length: 366\n",
      "skip if anyone wants to eat in a word disgusting a piece of hard meat tasteless small cloves garlic cloves will be given in chuijhal there is no taste it is floating in oil rice is also that thick low in salt most cold stale food offers online it was good to be back almond sherbet is the worst i vomited after eating i have never eaten such bad almond syrup before \n",
      "\n",
      "Text 104613 - Length: 347\n",
      "very bad experience except for rice most of their food is from the fridge today i ordered potato eggplant bharta dal and rice potatoes for potato filling are not boiled the smell of eggplant filling and salt was not given to either of the o clock the branch also smells and the amount of all food is very less will tell everyone not to order here \n",
      "\n",
      "Text 117542 - Length: 306\n",
      "their bengali items are good mashaallah but the fast food items are very bad money is wasted just giving a basket of meat does not make a burger sandwich burgers and sharmas offer roughly the same ingredients you hire a different chef for fast food or stop selling this item only waste of customer s money \n",
      "\n",
      "Text 320198 - Length: 301\n",
      "prices excecive high as if it seems like the quality i don t know what the color of the cream of the cake has not come up even after soaping it several times it would have been better to go to the consumer right in one place with a black piece of dirty cream there is no option to give a picture here \n",
      "\n",
      "Text 99194 - Length: 298\n",
      "did not expect it to be so bad we don t have food with money and we don t keep the price low what s the point of doing business with so many chips and bad quantity a few sausages continue with a little mayonnaise no chicken sauce or anything stop this nonsense marketing nothing but cheating people\n",
      "\n",
      "Text 80930 - Length: 297\n",
      "am a regular customer probably from paige s journey always getting the same food since day one the best part of their food is hot fresh and tasty quality retention is low in this area even though some of the shops used to have good quality why are they off done highly recommended good luck to you\n",
      "\n",
      "Text 304504 - Length: 295\n",
      "cooking is fun tried different items for a few days in a row the taste is quite good the salt content should be carefully considered dry is delicious if you continue like this you will be able to go far for a long time we don t have to struggle to cook at home employees are benefiting stay well\n",
      "\n",
      "Text 35987 - Length: 294\n",
      "very nasty and inhumane rupees shik kebab how can give only two pieces of burnt meat a piece of coal burned inside it grilled chicken is also good no masala salad did not give anything you deceive people like this if you are so dirty with food you will be blamed do not order and eat with money\n",
      "\n",
      "Text 23685 - Length: 292\n",
      "i ordered times in foodpanda and times they gave fast service every time i come and order that the next one will be good but every time it will be bad place the meat with oil pieces today i ordered pieces gave pieces of oil and piece of meat they are such bastards illegal business is illegal\n",
      "\n",
      "Text 116749 - Length: 286\n",
      "there is no comfort in haram i placed the order with high expectations i didn t have the money so i managed the money and gave the order but what did i give and what was handed over the quality of food is also going so how many more days to deceive people they have the right to boycott\n",
      "\n"
     ]
    }
   ],
   "source": [
    "for idx, text in top_10_max_length_texts.items():\n",
    "    print(f\"Text {idx} - Length: {len(text)}\\n{text}\\n\")"
   ]
  },
  {
   "cell_type": "code",
   "execution_count": 12,
   "id": "a5711b27",
   "metadata": {},
   "outputs": [],
   "source": [
    "top_10_min_length_indices = data['text'].apply(len).nsmallest(10).index\n",
    "top_10_min_length_texts = data.loc[top_10_min_length_indices, 'text']"
   ]
  },
  {
   "cell_type": "code",
   "execution_count": 13,
   "id": "5fb90545",
   "metadata": {},
   "outputs": [
    {
     "name": "stdout",
     "output_type": "stream",
     "text": [
      "Text 10 - Length: 3\n",
      "bad\n",
      "\n",
      "Text 1138 - Length: 3\n",
      "bad\n",
      "\n",
      "Text 1905 - Length: 3\n",
      "fun\n",
      "\n",
      "Text 2078 - Length: 3\n",
      "god\n",
      "\n",
      "Text 2431 - Length: 3\n",
      "bad\n",
      "\n",
      "Text 2504 - Length: 3\n",
      "bad\n",
      "\n",
      "Text 3055 - Length: 3\n",
      "bad\n",
      "\n",
      "Text 3077 - Length: 3\n",
      "pet\n",
      "\n",
      "Text 3161 - Length: 3\n",
      "yes\n",
      "\n",
      "Text 3272 - Length: 3\n",
      "bad\n",
      "\n"
     ]
    }
   ],
   "source": [
    "for idx, text in top_10_min_length_texts.items():\n",
    "    print(f\"Text {idx} - Length: {len(text)}\\n{text}\\n\")"
   ]
  },
  {
   "cell_type": "code",
   "execution_count": 14,
   "id": "3f0a6e58",
   "metadata": {},
   "outputs": [
    {
     "data": {
      "text/plain": [
       "labels\n",
       "1    161275\n",
       "3    133529\n",
       "2     39315\n",
       "Name: count, dtype: int64"
      ]
     },
     "execution_count": 14,
     "metadata": {},
     "output_type": "execute_result"
    }
   ],
   "source": [
    "data.labels.value_counts()"
   ]
  },
  {
   "cell_type": "code",
   "execution_count": 15,
   "id": "bdae64e5",
   "metadata": {},
   "outputs": [
    {
     "data": {
      "text/plain": [
       "ratings_overall\n",
       "1    127409\n",
       "5     94199\n",
       "4     39330\n",
       "3     39315\n",
       "2     33866\n",
       "Name: count, dtype: int64"
      ]
     },
     "execution_count": 15,
     "metadata": {},
     "output_type": "execute_result"
    }
   ],
   "source": [
    "data.ratings_overall.value_counts()"
   ]
  },
  {
   "cell_type": "code",
   "execution_count": 16,
   "id": "ea7d996c",
   "metadata": {},
   "outputs": [
    {
     "data": {
      "text/html": [
       "        <script type=\"text/javascript\">\n",
       "        window.PlotlyConfig = {MathJaxConfig: 'local'};\n",
       "        if (window.MathJax && window.MathJax.Hub && window.MathJax.Hub.Config) {window.MathJax.Hub.Config({SVG: {font: \"STIX-Web\"}});}\n",
       "        if (typeof require !== 'undefined') {\n",
       "        require.undef(\"plotly\");\n",
       "        requirejs.config({\n",
       "            paths: {\n",
       "                'plotly': ['https://cdn.plot.ly/plotly-2.27.0.min']\n",
       "            }\n",
       "        });\n",
       "        require(['plotly'], function(Plotly) {\n",
       "            window._Plotly = Plotly;\n",
       "        });\n",
       "        }\n",
       "        </script>\n",
       "        "
      ]
     },
     "metadata": {},
     "output_type": "display_data"
    },
    {
     "data": {
      "application/vnd.plotly.v1+json": {
       "config": {
        "linkText": "Export to plot.ly",
        "plotlyServerURL": "https://plot.ly",
        "showLink": false
       },
       "data": [
        {
         "alignmentgroup": "True",
         "hovertemplate": "Category:'%{x}' Counted: %{y}",
         "legendgroup": "",
         "marker": {
          "color": [
           1,
           3,
           2
          ],
          "coloraxis": "coloraxis",
          "pattern": {
           "shape": ""
          }
         },
         "name": "",
         "offsetgroup": "",
         "orientation": "v",
         "showlegend": false,
         "text": [
          161275,
          133529,
          39315
         ],
         "textposition": "auto",
         "type": "bar",
         "x": [
          1,
          3,
          2
         ],
         "xaxis": "x",
         "y": [
          161275,
          133529,
          39315
         ],
         "yaxis": "y"
        }
       ],
       "layout": {
        "barmode": "relative",
        "coloraxis": {
         "colorbar": {
          "title": {
           "text": "color"
          }
         },
         "colorscale": [
          [
           0,
           "#0d0887"
          ],
          [
           0.1111111111111111,
           "#46039f"
          ],
          [
           0.2222222222222222,
           "#7201a8"
          ],
          [
           0.3333333333333333,
           "#9c179e"
          ],
          [
           0.4444444444444444,
           "#bd3786"
          ],
          [
           0.5555555555555556,
           "#d8576b"
          ],
          [
           0.6666666666666666,
           "#ed7953"
          ],
          [
           0.7777777777777778,
           "#fb9f3a"
          ],
          [
           0.8888888888888888,
           "#fdca26"
          ],
          [
           1,
           "#f0f921"
          ]
         ]
        },
        "height": 500,
        "legend": {
         "tracegroupgap": 0
        },
        "margin": {
         "t": 60
        },
        "plot_bgcolor": "white",
        "showlegend": false,
        "template": {
         "data": {
          "bar": [
           {
            "error_x": {
             "color": "#2a3f5f"
            },
            "error_y": {
             "color": "#2a3f5f"
            },
            "marker": {
             "line": {
              "color": "#E5ECF6",
              "width": 0.5
             },
             "pattern": {
              "fillmode": "overlay",
              "size": 10,
              "solidity": 0.2
             }
            },
            "type": "bar"
           }
          ],
          "barpolar": [
           {
            "marker": {
             "line": {
              "color": "#E5ECF6",
              "width": 0.5
             },
             "pattern": {
              "fillmode": "overlay",
              "size": 10,
              "solidity": 0.2
             }
            },
            "type": "barpolar"
           }
          ],
          "carpet": [
           {
            "aaxis": {
             "endlinecolor": "#2a3f5f",
             "gridcolor": "white",
             "linecolor": "white",
             "minorgridcolor": "white",
             "startlinecolor": "#2a3f5f"
            },
            "baxis": {
             "endlinecolor": "#2a3f5f",
             "gridcolor": "white",
             "linecolor": "white",
             "minorgridcolor": "white",
             "startlinecolor": "#2a3f5f"
            },
            "type": "carpet"
           }
          ],
          "choropleth": [
           {
            "colorbar": {
             "outlinewidth": 0,
             "ticks": ""
            },
            "type": "choropleth"
           }
          ],
          "contour": [
           {
            "colorbar": {
             "outlinewidth": 0,
             "ticks": ""
            },
            "colorscale": [
             [
              0,
              "#0d0887"
             ],
             [
              0.1111111111111111,
              "#46039f"
             ],
             [
              0.2222222222222222,
              "#7201a8"
             ],
             [
              0.3333333333333333,
              "#9c179e"
             ],
             [
              0.4444444444444444,
              "#bd3786"
             ],
             [
              0.5555555555555556,
              "#d8576b"
             ],
             [
              0.6666666666666666,
              "#ed7953"
             ],
             [
              0.7777777777777778,
              "#fb9f3a"
             ],
             [
              0.8888888888888888,
              "#fdca26"
             ],
             [
              1,
              "#f0f921"
             ]
            ],
            "type": "contour"
           }
          ],
          "contourcarpet": [
           {
            "colorbar": {
             "outlinewidth": 0,
             "ticks": ""
            },
            "type": "contourcarpet"
           }
          ],
          "heatmap": [
           {
            "colorbar": {
             "outlinewidth": 0,
             "ticks": ""
            },
            "colorscale": [
             [
              0,
              "#0d0887"
             ],
             [
              0.1111111111111111,
              "#46039f"
             ],
             [
              0.2222222222222222,
              "#7201a8"
             ],
             [
              0.3333333333333333,
              "#9c179e"
             ],
             [
              0.4444444444444444,
              "#bd3786"
             ],
             [
              0.5555555555555556,
              "#d8576b"
             ],
             [
              0.6666666666666666,
              "#ed7953"
             ],
             [
              0.7777777777777778,
              "#fb9f3a"
             ],
             [
              0.8888888888888888,
              "#fdca26"
             ],
             [
              1,
              "#f0f921"
             ]
            ],
            "type": "heatmap"
           }
          ],
          "heatmapgl": [
           {
            "colorbar": {
             "outlinewidth": 0,
             "ticks": ""
            },
            "colorscale": [
             [
              0,
              "#0d0887"
             ],
             [
              0.1111111111111111,
              "#46039f"
             ],
             [
              0.2222222222222222,
              "#7201a8"
             ],
             [
              0.3333333333333333,
              "#9c179e"
             ],
             [
              0.4444444444444444,
              "#bd3786"
             ],
             [
              0.5555555555555556,
              "#d8576b"
             ],
             [
              0.6666666666666666,
              "#ed7953"
             ],
             [
              0.7777777777777778,
              "#fb9f3a"
             ],
             [
              0.8888888888888888,
              "#fdca26"
             ],
             [
              1,
              "#f0f921"
             ]
            ],
            "type": "heatmapgl"
           }
          ],
          "histogram": [
           {
            "marker": {
             "pattern": {
              "fillmode": "overlay",
              "size": 10,
              "solidity": 0.2
             }
            },
            "type": "histogram"
           }
          ],
          "histogram2d": [
           {
            "colorbar": {
             "outlinewidth": 0,
             "ticks": ""
            },
            "colorscale": [
             [
              0,
              "#0d0887"
             ],
             [
              0.1111111111111111,
              "#46039f"
             ],
             [
              0.2222222222222222,
              "#7201a8"
             ],
             [
              0.3333333333333333,
              "#9c179e"
             ],
             [
              0.4444444444444444,
              "#bd3786"
             ],
             [
              0.5555555555555556,
              "#d8576b"
             ],
             [
              0.6666666666666666,
              "#ed7953"
             ],
             [
              0.7777777777777778,
              "#fb9f3a"
             ],
             [
              0.8888888888888888,
              "#fdca26"
             ],
             [
              1,
              "#f0f921"
             ]
            ],
            "type": "histogram2d"
           }
          ],
          "histogram2dcontour": [
           {
            "colorbar": {
             "outlinewidth": 0,
             "ticks": ""
            },
            "colorscale": [
             [
              0,
              "#0d0887"
             ],
             [
              0.1111111111111111,
              "#46039f"
             ],
             [
              0.2222222222222222,
              "#7201a8"
             ],
             [
              0.3333333333333333,
              "#9c179e"
             ],
             [
              0.4444444444444444,
              "#bd3786"
             ],
             [
              0.5555555555555556,
              "#d8576b"
             ],
             [
              0.6666666666666666,
              "#ed7953"
             ],
             [
              0.7777777777777778,
              "#fb9f3a"
             ],
             [
              0.8888888888888888,
              "#fdca26"
             ],
             [
              1,
              "#f0f921"
             ]
            ],
            "type": "histogram2dcontour"
           }
          ],
          "mesh3d": [
           {
            "colorbar": {
             "outlinewidth": 0,
             "ticks": ""
            },
            "type": "mesh3d"
           }
          ],
          "parcoords": [
           {
            "line": {
             "colorbar": {
              "outlinewidth": 0,
              "ticks": ""
             }
            },
            "type": "parcoords"
           }
          ],
          "pie": [
           {
            "automargin": true,
            "type": "pie"
           }
          ],
          "scatter": [
           {
            "fillpattern": {
             "fillmode": "overlay",
             "size": 10,
             "solidity": 0.2
            },
            "type": "scatter"
           }
          ],
          "scatter3d": [
           {
            "line": {
             "colorbar": {
              "outlinewidth": 0,
              "ticks": ""
             }
            },
            "marker": {
             "colorbar": {
              "outlinewidth": 0,
              "ticks": ""
             }
            },
            "type": "scatter3d"
           }
          ],
          "scattercarpet": [
           {
            "marker": {
             "colorbar": {
              "outlinewidth": 0,
              "ticks": ""
             }
            },
            "type": "scattercarpet"
           }
          ],
          "scattergeo": [
           {
            "marker": {
             "colorbar": {
              "outlinewidth": 0,
              "ticks": ""
             }
            },
            "type": "scattergeo"
           }
          ],
          "scattergl": [
           {
            "marker": {
             "colorbar": {
              "outlinewidth": 0,
              "ticks": ""
             }
            },
            "type": "scattergl"
           }
          ],
          "scattermapbox": [
           {
            "marker": {
             "colorbar": {
              "outlinewidth": 0,
              "ticks": ""
             }
            },
            "type": "scattermapbox"
           }
          ],
          "scatterpolar": [
           {
            "marker": {
             "colorbar": {
              "outlinewidth": 0,
              "ticks": ""
             }
            },
            "type": "scatterpolar"
           }
          ],
          "scatterpolargl": [
           {
            "marker": {
             "colorbar": {
              "outlinewidth": 0,
              "ticks": ""
             }
            },
            "type": "scatterpolargl"
           }
          ],
          "scatterternary": [
           {
            "marker": {
             "colorbar": {
              "outlinewidth": 0,
              "ticks": ""
             }
            },
            "type": "scatterternary"
           }
          ],
          "surface": [
           {
            "colorbar": {
             "outlinewidth": 0,
             "ticks": ""
            },
            "colorscale": [
             [
              0,
              "#0d0887"
             ],
             [
              0.1111111111111111,
              "#46039f"
             ],
             [
              0.2222222222222222,
              "#7201a8"
             ],
             [
              0.3333333333333333,
              "#9c179e"
             ],
             [
              0.4444444444444444,
              "#bd3786"
             ],
             [
              0.5555555555555556,
              "#d8576b"
             ],
             [
              0.6666666666666666,
              "#ed7953"
             ],
             [
              0.7777777777777778,
              "#fb9f3a"
             ],
             [
              0.8888888888888888,
              "#fdca26"
             ],
             [
              1,
              "#f0f921"
             ]
            ],
            "type": "surface"
           }
          ],
          "table": [
           {
            "cells": {
             "fill": {
              "color": "#EBF0F8"
             },
             "line": {
              "color": "white"
             }
            },
            "header": {
             "fill": {
              "color": "#C8D4E3"
             },
             "line": {
              "color": "white"
             }
            },
            "type": "table"
           }
          ]
         },
         "layout": {
          "annotationdefaults": {
           "arrowcolor": "#2a3f5f",
           "arrowhead": 0,
           "arrowwidth": 1
          },
          "autotypenumbers": "strict",
          "coloraxis": {
           "colorbar": {
            "outlinewidth": 0,
            "ticks": ""
           }
          },
          "colorscale": {
           "diverging": [
            [
             0,
             "#8e0152"
            ],
            [
             0.1,
             "#c51b7d"
            ],
            [
             0.2,
             "#de77ae"
            ],
            [
             0.3,
             "#f1b6da"
            ],
            [
             0.4,
             "#fde0ef"
            ],
            [
             0.5,
             "#f7f7f7"
            ],
            [
             0.6,
             "#e6f5d0"
            ],
            [
             0.7,
             "#b8e186"
            ],
            [
             0.8,
             "#7fbc41"
            ],
            [
             0.9,
             "#4d9221"
            ],
            [
             1,
             "#276419"
            ]
           ],
           "sequential": [
            [
             0,
             "#0d0887"
            ],
            [
             0.1111111111111111,
             "#46039f"
            ],
            [
             0.2222222222222222,
             "#7201a8"
            ],
            [
             0.3333333333333333,
             "#9c179e"
            ],
            [
             0.4444444444444444,
             "#bd3786"
            ],
            [
             0.5555555555555556,
             "#d8576b"
            ],
            [
             0.6666666666666666,
             "#ed7953"
            ],
            [
             0.7777777777777778,
             "#fb9f3a"
            ],
            [
             0.8888888888888888,
             "#fdca26"
            ],
            [
             1,
             "#f0f921"
            ]
           ],
           "sequentialminus": [
            [
             0,
             "#0d0887"
            ],
            [
             0.1111111111111111,
             "#46039f"
            ],
            [
             0.2222222222222222,
             "#7201a8"
            ],
            [
             0.3333333333333333,
             "#9c179e"
            ],
            [
             0.4444444444444444,
             "#bd3786"
            ],
            [
             0.5555555555555556,
             "#d8576b"
            ],
            [
             0.6666666666666666,
             "#ed7953"
            ],
            [
             0.7777777777777778,
             "#fb9f3a"
            ],
            [
             0.8888888888888888,
             "#fdca26"
            ],
            [
             1,
             "#f0f921"
            ]
           ]
          },
          "colorway": [
           "#636efa",
           "#EF553B",
           "#00cc96",
           "#ab63fa",
           "#FFA15A",
           "#19d3f3",
           "#FF6692",
           "#B6E880",
           "#FF97FF",
           "#FECB52"
          ],
          "font": {
           "color": "#2a3f5f"
          },
          "geo": {
           "bgcolor": "white",
           "lakecolor": "white",
           "landcolor": "#E5ECF6",
           "showlakes": true,
           "showland": true,
           "subunitcolor": "white"
          },
          "hoverlabel": {
           "align": "left"
          },
          "hovermode": "closest",
          "mapbox": {
           "style": "light"
          },
          "paper_bgcolor": "white",
          "plot_bgcolor": "#E5ECF6",
          "polar": {
           "angularaxis": {
            "gridcolor": "white",
            "linecolor": "white",
            "ticks": ""
           },
           "bgcolor": "#E5ECF6",
           "radialaxis": {
            "gridcolor": "white",
            "linecolor": "white",
            "ticks": ""
           }
          },
          "scene": {
           "xaxis": {
            "backgroundcolor": "#E5ECF6",
            "gridcolor": "white",
            "gridwidth": 2,
            "linecolor": "white",
            "showbackground": true,
            "ticks": "",
            "zerolinecolor": "white"
           },
           "yaxis": {
            "backgroundcolor": "#E5ECF6",
            "gridcolor": "white",
            "gridwidth": 2,
            "linecolor": "white",
            "showbackground": true,
            "ticks": "",
            "zerolinecolor": "white"
           },
           "zaxis": {
            "backgroundcolor": "#E5ECF6",
            "gridcolor": "white",
            "gridwidth": 2,
            "linecolor": "white",
            "showbackground": true,
            "ticks": "",
            "zerolinecolor": "white"
           }
          },
          "shapedefaults": {
           "line": {
            "color": "#2a3f5f"
           }
          },
          "ternary": {
           "aaxis": {
            "gridcolor": "white",
            "linecolor": "white",
            "ticks": ""
           },
           "baxis": {
            "gridcolor": "white",
            "linecolor": "white",
            "ticks": ""
           },
           "bgcolor": "#E5ECF6",
           "caxis": {
            "gridcolor": "white",
            "linecolor": "white",
            "ticks": ""
           }
          },
          "title": {
           "x": 0.05
          },
          "xaxis": {
           "automargin": true,
           "gridcolor": "white",
           "linecolor": "white",
           "ticks": "",
           "title": {
            "standoff": 15
           },
           "zerolinecolor": "white",
           "zerolinewidth": 2
          },
          "yaxis": {
           "automargin": true,
           "gridcolor": "white",
           "linecolor": "white",
           "ticks": "",
           "title": {
            "standoff": 15
           },
           "zerolinecolor": "white",
           "zerolinewidth": 2
          }
         }
        },
        "title": {
         "font": {
          "size": 35
         },
         "text": "Category Counts",
         "x": 0.5
        },
        "width": 800,
        "xaxis": {
         "anchor": "y",
         "domain": [
          0,
          1
         ],
         "showgrid": false,
         "title": {
          "text": "Category"
         }
        },
        "yaxis": {
         "anchor": "x",
         "domain": [
          0,
          1
         ],
         "showgrid": false,
         "title": {
          "text": "Value"
         }
        }
       }
      },
      "text/html": [
       "<div>                            <div id=\"33e5b015-bd8f-4d1d-975f-81a41b326c72\" class=\"plotly-graph-div\" style=\"height:500px; width:800px;\"></div>            <script type=\"text/javascript\">                require([\"plotly\"], function(Plotly) {                    window.PLOTLYENV=window.PLOTLYENV || {};                                    if (document.getElementById(\"33e5b015-bd8f-4d1d-975f-81a41b326c72\")) {                    Plotly.newPlot(                        \"33e5b015-bd8f-4d1d-975f-81a41b326c72\",                        [{\"alignmentgroup\":\"True\",\"hovertemplate\":\"Category:'%{x}' Counted: %{y}\",\"legendgroup\":\"\",\"marker\":{\"color\":[1,3,2],\"coloraxis\":\"coloraxis\",\"pattern\":{\"shape\":\"\"}},\"name\":\"\",\"offsetgroup\":\"\",\"orientation\":\"v\",\"showlegend\":false,\"text\":[161275.0,133529.0,39315.0],\"textposition\":\"auto\",\"x\":[1,3,2],\"xaxis\":\"x\",\"y\":[161275,133529,39315],\"yaxis\":\"y\",\"type\":\"bar\"}],                        {\"barmode\":\"relative\",\"coloraxis\":{\"colorbar\":{\"title\":{\"text\":\"color\"}},\"colorscale\":[[0.0,\"#0d0887\"],[0.1111111111111111,\"#46039f\"],[0.2222222222222222,\"#7201a8\"],[0.3333333333333333,\"#9c179e\"],[0.4444444444444444,\"#bd3786\"],[0.5555555555555556,\"#d8576b\"],[0.6666666666666666,\"#ed7953\"],[0.7777777777777778,\"#fb9f3a\"],[0.8888888888888888,\"#fdca26\"],[1.0,\"#f0f921\"]]},\"height\":500,\"legend\":{\"tracegroupgap\":0},\"margin\":{\"t\":60},\"plot_bgcolor\":\"white\",\"showlegend\":false,\"template\":{\"data\":{\"barpolar\":[{\"marker\":{\"line\":{\"color\":\"#E5ECF6\",\"width\":0.5},\"pattern\":{\"fillmode\":\"overlay\",\"size\":10,\"solidity\":0.2}},\"type\":\"barpolar\"}],\"bar\":[{\"error_x\":{\"color\":\"#2a3f5f\"},\"error_y\":{\"color\":\"#2a3f5f\"},\"marker\":{\"line\":{\"color\":\"#E5ECF6\",\"width\":0.5},\"pattern\":{\"fillmode\":\"overlay\",\"size\":10,\"solidity\":0.2}},\"type\":\"bar\"}],\"carpet\":[{\"aaxis\":{\"endlinecolor\":\"#2a3f5f\",\"gridcolor\":\"white\",\"linecolor\":\"white\",\"minorgridcolor\":\"white\",\"startlinecolor\":\"#2a3f5f\"},\"baxis\":{\"endlinecolor\":\"#2a3f5f\",\"gridcolor\":\"white\",\"linecolor\":\"white\",\"minorgridcolor\":\"white\",\"startlinecolor\":\"#2a3f5f\"},\"type\":\"carpet\"}],\"choropleth\":[{\"colorbar\":{\"outlinewidth\":0,\"ticks\":\"\"},\"type\":\"choropleth\"}],\"contourcarpet\":[{\"colorbar\":{\"outlinewidth\":0,\"ticks\":\"\"},\"type\":\"contourcarpet\"}],\"contour\":[{\"colorbar\":{\"outlinewidth\":0,\"ticks\":\"\"},\"colorscale\":[[0.0,\"#0d0887\"],[0.1111111111111111,\"#46039f\"],[0.2222222222222222,\"#7201a8\"],[0.3333333333333333,\"#9c179e\"],[0.4444444444444444,\"#bd3786\"],[0.5555555555555556,\"#d8576b\"],[0.6666666666666666,\"#ed7953\"],[0.7777777777777778,\"#fb9f3a\"],[0.8888888888888888,\"#fdca26\"],[1.0,\"#f0f921\"]],\"type\":\"contour\"}],\"heatmapgl\":[{\"colorbar\":{\"outlinewidth\":0,\"ticks\":\"\"},\"colorscale\":[[0.0,\"#0d0887\"],[0.1111111111111111,\"#46039f\"],[0.2222222222222222,\"#7201a8\"],[0.3333333333333333,\"#9c179e\"],[0.4444444444444444,\"#bd3786\"],[0.5555555555555556,\"#d8576b\"],[0.6666666666666666,\"#ed7953\"],[0.7777777777777778,\"#fb9f3a\"],[0.8888888888888888,\"#fdca26\"],[1.0,\"#f0f921\"]],\"type\":\"heatmapgl\"}],\"heatmap\":[{\"colorbar\":{\"outlinewidth\":0,\"ticks\":\"\"},\"colorscale\":[[0.0,\"#0d0887\"],[0.1111111111111111,\"#46039f\"],[0.2222222222222222,\"#7201a8\"],[0.3333333333333333,\"#9c179e\"],[0.4444444444444444,\"#bd3786\"],[0.5555555555555556,\"#d8576b\"],[0.6666666666666666,\"#ed7953\"],[0.7777777777777778,\"#fb9f3a\"],[0.8888888888888888,\"#fdca26\"],[1.0,\"#f0f921\"]],\"type\":\"heatmap\"}],\"histogram2dcontour\":[{\"colorbar\":{\"outlinewidth\":0,\"ticks\":\"\"},\"colorscale\":[[0.0,\"#0d0887\"],[0.1111111111111111,\"#46039f\"],[0.2222222222222222,\"#7201a8\"],[0.3333333333333333,\"#9c179e\"],[0.4444444444444444,\"#bd3786\"],[0.5555555555555556,\"#d8576b\"],[0.6666666666666666,\"#ed7953\"],[0.7777777777777778,\"#fb9f3a\"],[0.8888888888888888,\"#fdca26\"],[1.0,\"#f0f921\"]],\"type\":\"histogram2dcontour\"}],\"histogram2d\":[{\"colorbar\":{\"outlinewidth\":0,\"ticks\":\"\"},\"colorscale\":[[0.0,\"#0d0887\"],[0.1111111111111111,\"#46039f\"],[0.2222222222222222,\"#7201a8\"],[0.3333333333333333,\"#9c179e\"],[0.4444444444444444,\"#bd3786\"],[0.5555555555555556,\"#d8576b\"],[0.6666666666666666,\"#ed7953\"],[0.7777777777777778,\"#fb9f3a\"],[0.8888888888888888,\"#fdca26\"],[1.0,\"#f0f921\"]],\"type\":\"histogram2d\"}],\"histogram\":[{\"marker\":{\"pattern\":{\"fillmode\":\"overlay\",\"size\":10,\"solidity\":0.2}},\"type\":\"histogram\"}],\"mesh3d\":[{\"colorbar\":{\"outlinewidth\":0,\"ticks\":\"\"},\"type\":\"mesh3d\"}],\"parcoords\":[{\"line\":{\"colorbar\":{\"outlinewidth\":0,\"ticks\":\"\"}},\"type\":\"parcoords\"}],\"pie\":[{\"automargin\":true,\"type\":\"pie\"}],\"scatter3d\":[{\"line\":{\"colorbar\":{\"outlinewidth\":0,\"ticks\":\"\"}},\"marker\":{\"colorbar\":{\"outlinewidth\":0,\"ticks\":\"\"}},\"type\":\"scatter3d\"}],\"scattercarpet\":[{\"marker\":{\"colorbar\":{\"outlinewidth\":0,\"ticks\":\"\"}},\"type\":\"scattercarpet\"}],\"scattergeo\":[{\"marker\":{\"colorbar\":{\"outlinewidth\":0,\"ticks\":\"\"}},\"type\":\"scattergeo\"}],\"scattergl\":[{\"marker\":{\"colorbar\":{\"outlinewidth\":0,\"ticks\":\"\"}},\"type\":\"scattergl\"}],\"scattermapbox\":[{\"marker\":{\"colorbar\":{\"outlinewidth\":0,\"ticks\":\"\"}},\"type\":\"scattermapbox\"}],\"scatterpolargl\":[{\"marker\":{\"colorbar\":{\"outlinewidth\":0,\"ticks\":\"\"}},\"type\":\"scatterpolargl\"}],\"scatterpolar\":[{\"marker\":{\"colorbar\":{\"outlinewidth\":0,\"ticks\":\"\"}},\"type\":\"scatterpolar\"}],\"scatter\":[{\"fillpattern\":{\"fillmode\":\"overlay\",\"size\":10,\"solidity\":0.2},\"type\":\"scatter\"}],\"scatterternary\":[{\"marker\":{\"colorbar\":{\"outlinewidth\":0,\"ticks\":\"\"}},\"type\":\"scatterternary\"}],\"surface\":[{\"colorbar\":{\"outlinewidth\":0,\"ticks\":\"\"},\"colorscale\":[[0.0,\"#0d0887\"],[0.1111111111111111,\"#46039f\"],[0.2222222222222222,\"#7201a8\"],[0.3333333333333333,\"#9c179e\"],[0.4444444444444444,\"#bd3786\"],[0.5555555555555556,\"#d8576b\"],[0.6666666666666666,\"#ed7953\"],[0.7777777777777778,\"#fb9f3a\"],[0.8888888888888888,\"#fdca26\"],[1.0,\"#f0f921\"]],\"type\":\"surface\"}],\"table\":[{\"cells\":{\"fill\":{\"color\":\"#EBF0F8\"},\"line\":{\"color\":\"white\"}},\"header\":{\"fill\":{\"color\":\"#C8D4E3\"},\"line\":{\"color\":\"white\"}},\"type\":\"table\"}]},\"layout\":{\"annotationdefaults\":{\"arrowcolor\":\"#2a3f5f\",\"arrowhead\":0,\"arrowwidth\":1},\"autotypenumbers\":\"strict\",\"coloraxis\":{\"colorbar\":{\"outlinewidth\":0,\"ticks\":\"\"}},\"colorscale\":{\"diverging\":[[0,\"#8e0152\"],[0.1,\"#c51b7d\"],[0.2,\"#de77ae\"],[0.3,\"#f1b6da\"],[0.4,\"#fde0ef\"],[0.5,\"#f7f7f7\"],[0.6,\"#e6f5d0\"],[0.7,\"#b8e186\"],[0.8,\"#7fbc41\"],[0.9,\"#4d9221\"],[1,\"#276419\"]],\"sequential\":[[0.0,\"#0d0887\"],[0.1111111111111111,\"#46039f\"],[0.2222222222222222,\"#7201a8\"],[0.3333333333333333,\"#9c179e\"],[0.4444444444444444,\"#bd3786\"],[0.5555555555555556,\"#d8576b\"],[0.6666666666666666,\"#ed7953\"],[0.7777777777777778,\"#fb9f3a\"],[0.8888888888888888,\"#fdca26\"],[1.0,\"#f0f921\"]],\"sequentialminus\":[[0.0,\"#0d0887\"],[0.1111111111111111,\"#46039f\"],[0.2222222222222222,\"#7201a8\"],[0.3333333333333333,\"#9c179e\"],[0.4444444444444444,\"#bd3786\"],[0.5555555555555556,\"#d8576b\"],[0.6666666666666666,\"#ed7953\"],[0.7777777777777778,\"#fb9f3a\"],[0.8888888888888888,\"#fdca26\"],[1.0,\"#f0f921\"]]},\"colorway\":[\"#636efa\",\"#EF553B\",\"#00cc96\",\"#ab63fa\",\"#FFA15A\",\"#19d3f3\",\"#FF6692\",\"#B6E880\",\"#FF97FF\",\"#FECB52\"],\"font\":{\"color\":\"#2a3f5f\"},\"geo\":{\"bgcolor\":\"white\",\"lakecolor\":\"white\",\"landcolor\":\"#E5ECF6\",\"showlakes\":true,\"showland\":true,\"subunitcolor\":\"white\"},\"hoverlabel\":{\"align\":\"left\"},\"hovermode\":\"closest\",\"mapbox\":{\"style\":\"light\"},\"paper_bgcolor\":\"white\",\"plot_bgcolor\":\"#E5ECF6\",\"polar\":{\"angularaxis\":{\"gridcolor\":\"white\",\"linecolor\":\"white\",\"ticks\":\"\"},\"bgcolor\":\"#E5ECF6\",\"radialaxis\":{\"gridcolor\":\"white\",\"linecolor\":\"white\",\"ticks\":\"\"}},\"scene\":{\"xaxis\":{\"backgroundcolor\":\"#E5ECF6\",\"gridcolor\":\"white\",\"gridwidth\":2,\"linecolor\":\"white\",\"showbackground\":true,\"ticks\":\"\",\"zerolinecolor\":\"white\"},\"yaxis\":{\"backgroundcolor\":\"#E5ECF6\",\"gridcolor\":\"white\",\"gridwidth\":2,\"linecolor\":\"white\",\"showbackground\":true,\"ticks\":\"\",\"zerolinecolor\":\"white\"},\"zaxis\":{\"backgroundcolor\":\"#E5ECF6\",\"gridcolor\":\"white\",\"gridwidth\":2,\"linecolor\":\"white\",\"showbackground\":true,\"ticks\":\"\",\"zerolinecolor\":\"white\"}},\"shapedefaults\":{\"line\":{\"color\":\"#2a3f5f\"}},\"ternary\":{\"aaxis\":{\"gridcolor\":\"white\",\"linecolor\":\"white\",\"ticks\":\"\"},\"baxis\":{\"gridcolor\":\"white\",\"linecolor\":\"white\",\"ticks\":\"\"},\"bgcolor\":\"#E5ECF6\",\"caxis\":{\"gridcolor\":\"white\",\"linecolor\":\"white\",\"ticks\":\"\"}},\"title\":{\"x\":0.05},\"xaxis\":{\"automargin\":true,\"gridcolor\":\"white\",\"linecolor\":\"white\",\"ticks\":\"\",\"title\":{\"standoff\":15},\"zerolinecolor\":\"white\",\"zerolinewidth\":2},\"yaxis\":{\"automargin\":true,\"gridcolor\":\"white\",\"linecolor\":\"white\",\"ticks\":\"\",\"title\":{\"standoff\":15},\"zerolinecolor\":\"white\",\"zerolinewidth\":2}}},\"title\":{\"font\":{\"size\":35},\"text\":\"Category Counts\",\"x\":0.5},\"width\":800,\"xaxis\":{\"anchor\":\"y\",\"domain\":[0.0,1.0],\"showgrid\":false,\"title\":{\"text\":\"Category\"}},\"yaxis\":{\"anchor\":\"x\",\"domain\":[0.0,1.0],\"showgrid\":false,\"title\":{\"text\":\"Value\"}}},                        {\"responsive\": true}                    ).then(function(){\n",
       "                            \n",
       "var gd = document.getElementById('33e5b015-bd8f-4d1d-975f-81a41b326c72');\n",
       "var x = new MutationObserver(function (mutations, observer) {{\n",
       "        var display = window.getComputedStyle(gd).display;\n",
       "        if (!display || display === 'none') {{\n",
       "            console.log([gd, 'removed!']);\n",
       "            Plotly.purge(gd);\n",
       "            observer.disconnect();\n",
       "        }}\n",
       "}});\n",
       "\n",
       "// Listen for the removal of the full notebook cells\n",
       "var notebookContainer = gd.closest('#notebook-container');\n",
       "if (notebookContainer) {{\n",
       "    x.observe(notebookContainer, {childList: true});\n",
       "}}\n",
       "\n",
       "// Listen for the clearing of the current output cell\n",
       "var outputEl = gd.closest('.output');\n",
       "if (outputEl) {{\n",
       "    x.observe(outputEl, {childList: true});\n",
       "}}\n",
       "\n",
       "                        })                };                });            </script>        </div>"
      ]
     },
     "metadata": {},
     "output_type": "display_data"
    }
   ],
   "source": [
    "import plotly.graph_objects as go\n",
    "from plotly.offline import iplot, init_notebook_mode\n",
    "import plotly.express as px\n",
    "import plotly.io as pio\n",
    "\n",
    "init_notebook_mode(True)\n",
    "\n",
    "fig = px.bar(x=data.labels.value_counts().index,y=data.labels.value_counts(),color=data.labels.value_counts().index,text=data.labels.value_counts())\n",
    "fig.update_traces(hovertemplate=\"Category:'%{x}' Counted: %{y}\")\n",
    "fig.update_layout(title={\"text\":\"Category Counts\",\"x\":0.5,\"font\":{\"size\":35}},xaxis={\"title\":\"Category\",\"showgrid\":False},yaxis={\"title\":\"Value\",\"showgrid\":False},plot_bgcolor=\"white\",width=800,height=500,showlegend=False)\n",
    "iplot(fig)"
   ]
  },
  {
   "cell_type": "code",
   "execution_count": null,
   "id": "015fc1a9",
   "metadata": {},
   "outputs": [],
   "source": []
  },
  {
   "cell_type": "code",
   "execution_count": 17,
   "id": "1ee6f31e",
   "metadata": {},
   "outputs": [
    {
     "data": {
      "text/html": [
       "        <script type=\"text/javascript\">\n",
       "        window.PlotlyConfig = {MathJaxConfig: 'local'};\n",
       "        if (window.MathJax && window.MathJax.Hub && window.MathJax.Hub.Config) {window.MathJax.Hub.Config({SVG: {font: \"STIX-Web\"}});}\n",
       "        if (typeof require !== 'undefined') {\n",
       "        require.undef(\"plotly\");\n",
       "        requirejs.config({\n",
       "            paths: {\n",
       "                'plotly': ['https://cdn.plot.ly/plotly-2.27.0.min']\n",
       "            }\n",
       "        });\n",
       "        require(['plotly'], function(Plotly) {\n",
       "            window._Plotly = Plotly;\n",
       "        });\n",
       "        }\n",
       "        </script>\n",
       "        "
      ]
     },
     "metadata": {},
     "output_type": "display_data"
    },
    {
     "data": {
      "application/vnd.plotly.v1+json": {
       "config": {
        "linkText": "Export to plot.ly",
        "plotlyServerURL": "https://plot.ly",
        "showLink": false
       },
       "data": [
        {
         "alignmentgroup": "True",
         "hovertemplate": "Category:'%{x}' Counted: %{y}",
         "legendgroup": "",
         "marker": {
          "color": [
           1,
           5,
           4,
           3,
           2
          ],
          "coloraxis": "coloraxis",
          "pattern": {
           "shape": ""
          }
         },
         "name": "",
         "offsetgroup": "",
         "orientation": "v",
         "showlegend": false,
         "text": [
          127409,
          94199,
          39330,
          39315,
          33866
         ],
         "textposition": "auto",
         "type": "bar",
         "x": [
          1,
          5,
          4,
          3,
          2
         ],
         "xaxis": "x",
         "y": [
          127409,
          94199,
          39330,
          39315,
          33866
         ],
         "yaxis": "y"
        }
       ],
       "layout": {
        "barmode": "relative",
        "coloraxis": {
         "colorbar": {
          "title": {
           "text": "color"
          }
         },
         "colorscale": [
          [
           0,
           "#0d0887"
          ],
          [
           0.1111111111111111,
           "#46039f"
          ],
          [
           0.2222222222222222,
           "#7201a8"
          ],
          [
           0.3333333333333333,
           "#9c179e"
          ],
          [
           0.4444444444444444,
           "#bd3786"
          ],
          [
           0.5555555555555556,
           "#d8576b"
          ],
          [
           0.6666666666666666,
           "#ed7953"
          ],
          [
           0.7777777777777778,
           "#fb9f3a"
          ],
          [
           0.8888888888888888,
           "#fdca26"
          ],
          [
           1,
           "#f0f921"
          ]
         ]
        },
        "height": 500,
        "legend": {
         "tracegroupgap": 0
        },
        "margin": {
         "t": 60
        },
        "plot_bgcolor": "white",
        "showlegend": false,
        "template": {
         "data": {
          "bar": [
           {
            "error_x": {
             "color": "#2a3f5f"
            },
            "error_y": {
             "color": "#2a3f5f"
            },
            "marker": {
             "line": {
              "color": "#E5ECF6",
              "width": 0.5
             },
             "pattern": {
              "fillmode": "overlay",
              "size": 10,
              "solidity": 0.2
             }
            },
            "type": "bar"
           }
          ],
          "barpolar": [
           {
            "marker": {
             "line": {
              "color": "#E5ECF6",
              "width": 0.5
             },
             "pattern": {
              "fillmode": "overlay",
              "size": 10,
              "solidity": 0.2
             }
            },
            "type": "barpolar"
           }
          ],
          "carpet": [
           {
            "aaxis": {
             "endlinecolor": "#2a3f5f",
             "gridcolor": "white",
             "linecolor": "white",
             "minorgridcolor": "white",
             "startlinecolor": "#2a3f5f"
            },
            "baxis": {
             "endlinecolor": "#2a3f5f",
             "gridcolor": "white",
             "linecolor": "white",
             "minorgridcolor": "white",
             "startlinecolor": "#2a3f5f"
            },
            "type": "carpet"
           }
          ],
          "choropleth": [
           {
            "colorbar": {
             "outlinewidth": 0,
             "ticks": ""
            },
            "type": "choropleth"
           }
          ],
          "contour": [
           {
            "colorbar": {
             "outlinewidth": 0,
             "ticks": ""
            },
            "colorscale": [
             [
              0,
              "#0d0887"
             ],
             [
              0.1111111111111111,
              "#46039f"
             ],
             [
              0.2222222222222222,
              "#7201a8"
             ],
             [
              0.3333333333333333,
              "#9c179e"
             ],
             [
              0.4444444444444444,
              "#bd3786"
             ],
             [
              0.5555555555555556,
              "#d8576b"
             ],
             [
              0.6666666666666666,
              "#ed7953"
             ],
             [
              0.7777777777777778,
              "#fb9f3a"
             ],
             [
              0.8888888888888888,
              "#fdca26"
             ],
             [
              1,
              "#f0f921"
             ]
            ],
            "type": "contour"
           }
          ],
          "contourcarpet": [
           {
            "colorbar": {
             "outlinewidth": 0,
             "ticks": ""
            },
            "type": "contourcarpet"
           }
          ],
          "heatmap": [
           {
            "colorbar": {
             "outlinewidth": 0,
             "ticks": ""
            },
            "colorscale": [
             [
              0,
              "#0d0887"
             ],
             [
              0.1111111111111111,
              "#46039f"
             ],
             [
              0.2222222222222222,
              "#7201a8"
             ],
             [
              0.3333333333333333,
              "#9c179e"
             ],
             [
              0.4444444444444444,
              "#bd3786"
             ],
             [
              0.5555555555555556,
              "#d8576b"
             ],
             [
              0.6666666666666666,
              "#ed7953"
             ],
             [
              0.7777777777777778,
              "#fb9f3a"
             ],
             [
              0.8888888888888888,
              "#fdca26"
             ],
             [
              1,
              "#f0f921"
             ]
            ],
            "type": "heatmap"
           }
          ],
          "heatmapgl": [
           {
            "colorbar": {
             "outlinewidth": 0,
             "ticks": ""
            },
            "colorscale": [
             [
              0,
              "#0d0887"
             ],
             [
              0.1111111111111111,
              "#46039f"
             ],
             [
              0.2222222222222222,
              "#7201a8"
             ],
             [
              0.3333333333333333,
              "#9c179e"
             ],
             [
              0.4444444444444444,
              "#bd3786"
             ],
             [
              0.5555555555555556,
              "#d8576b"
             ],
             [
              0.6666666666666666,
              "#ed7953"
             ],
             [
              0.7777777777777778,
              "#fb9f3a"
             ],
             [
              0.8888888888888888,
              "#fdca26"
             ],
             [
              1,
              "#f0f921"
             ]
            ],
            "type": "heatmapgl"
           }
          ],
          "histogram": [
           {
            "marker": {
             "pattern": {
              "fillmode": "overlay",
              "size": 10,
              "solidity": 0.2
             }
            },
            "type": "histogram"
           }
          ],
          "histogram2d": [
           {
            "colorbar": {
             "outlinewidth": 0,
             "ticks": ""
            },
            "colorscale": [
             [
              0,
              "#0d0887"
             ],
             [
              0.1111111111111111,
              "#46039f"
             ],
             [
              0.2222222222222222,
              "#7201a8"
             ],
             [
              0.3333333333333333,
              "#9c179e"
             ],
             [
              0.4444444444444444,
              "#bd3786"
             ],
             [
              0.5555555555555556,
              "#d8576b"
             ],
             [
              0.6666666666666666,
              "#ed7953"
             ],
             [
              0.7777777777777778,
              "#fb9f3a"
             ],
             [
              0.8888888888888888,
              "#fdca26"
             ],
             [
              1,
              "#f0f921"
             ]
            ],
            "type": "histogram2d"
           }
          ],
          "histogram2dcontour": [
           {
            "colorbar": {
             "outlinewidth": 0,
             "ticks": ""
            },
            "colorscale": [
             [
              0,
              "#0d0887"
             ],
             [
              0.1111111111111111,
              "#46039f"
             ],
             [
              0.2222222222222222,
              "#7201a8"
             ],
             [
              0.3333333333333333,
              "#9c179e"
             ],
             [
              0.4444444444444444,
              "#bd3786"
             ],
             [
              0.5555555555555556,
              "#d8576b"
             ],
             [
              0.6666666666666666,
              "#ed7953"
             ],
             [
              0.7777777777777778,
              "#fb9f3a"
             ],
             [
              0.8888888888888888,
              "#fdca26"
             ],
             [
              1,
              "#f0f921"
             ]
            ],
            "type": "histogram2dcontour"
           }
          ],
          "mesh3d": [
           {
            "colorbar": {
             "outlinewidth": 0,
             "ticks": ""
            },
            "type": "mesh3d"
           }
          ],
          "parcoords": [
           {
            "line": {
             "colorbar": {
              "outlinewidth": 0,
              "ticks": ""
             }
            },
            "type": "parcoords"
           }
          ],
          "pie": [
           {
            "automargin": true,
            "type": "pie"
           }
          ],
          "scatter": [
           {
            "fillpattern": {
             "fillmode": "overlay",
             "size": 10,
             "solidity": 0.2
            },
            "type": "scatter"
           }
          ],
          "scatter3d": [
           {
            "line": {
             "colorbar": {
              "outlinewidth": 0,
              "ticks": ""
             }
            },
            "marker": {
             "colorbar": {
              "outlinewidth": 0,
              "ticks": ""
             }
            },
            "type": "scatter3d"
           }
          ],
          "scattercarpet": [
           {
            "marker": {
             "colorbar": {
              "outlinewidth": 0,
              "ticks": ""
             }
            },
            "type": "scattercarpet"
           }
          ],
          "scattergeo": [
           {
            "marker": {
             "colorbar": {
              "outlinewidth": 0,
              "ticks": ""
             }
            },
            "type": "scattergeo"
           }
          ],
          "scattergl": [
           {
            "marker": {
             "colorbar": {
              "outlinewidth": 0,
              "ticks": ""
             }
            },
            "type": "scattergl"
           }
          ],
          "scattermapbox": [
           {
            "marker": {
             "colorbar": {
              "outlinewidth": 0,
              "ticks": ""
             }
            },
            "type": "scattermapbox"
           }
          ],
          "scatterpolar": [
           {
            "marker": {
             "colorbar": {
              "outlinewidth": 0,
              "ticks": ""
             }
            },
            "type": "scatterpolar"
           }
          ],
          "scatterpolargl": [
           {
            "marker": {
             "colorbar": {
              "outlinewidth": 0,
              "ticks": ""
             }
            },
            "type": "scatterpolargl"
           }
          ],
          "scatterternary": [
           {
            "marker": {
             "colorbar": {
              "outlinewidth": 0,
              "ticks": ""
             }
            },
            "type": "scatterternary"
           }
          ],
          "surface": [
           {
            "colorbar": {
             "outlinewidth": 0,
             "ticks": ""
            },
            "colorscale": [
             [
              0,
              "#0d0887"
             ],
             [
              0.1111111111111111,
              "#46039f"
             ],
             [
              0.2222222222222222,
              "#7201a8"
             ],
             [
              0.3333333333333333,
              "#9c179e"
             ],
             [
              0.4444444444444444,
              "#bd3786"
             ],
             [
              0.5555555555555556,
              "#d8576b"
             ],
             [
              0.6666666666666666,
              "#ed7953"
             ],
             [
              0.7777777777777778,
              "#fb9f3a"
             ],
             [
              0.8888888888888888,
              "#fdca26"
             ],
             [
              1,
              "#f0f921"
             ]
            ],
            "type": "surface"
           }
          ],
          "table": [
           {
            "cells": {
             "fill": {
              "color": "#EBF0F8"
             },
             "line": {
              "color": "white"
             }
            },
            "header": {
             "fill": {
              "color": "#C8D4E3"
             },
             "line": {
              "color": "white"
             }
            },
            "type": "table"
           }
          ]
         },
         "layout": {
          "annotationdefaults": {
           "arrowcolor": "#2a3f5f",
           "arrowhead": 0,
           "arrowwidth": 1
          },
          "autotypenumbers": "strict",
          "coloraxis": {
           "colorbar": {
            "outlinewidth": 0,
            "ticks": ""
           }
          },
          "colorscale": {
           "diverging": [
            [
             0,
             "#8e0152"
            ],
            [
             0.1,
             "#c51b7d"
            ],
            [
             0.2,
             "#de77ae"
            ],
            [
             0.3,
             "#f1b6da"
            ],
            [
             0.4,
             "#fde0ef"
            ],
            [
             0.5,
             "#f7f7f7"
            ],
            [
             0.6,
             "#e6f5d0"
            ],
            [
             0.7,
             "#b8e186"
            ],
            [
             0.8,
             "#7fbc41"
            ],
            [
             0.9,
             "#4d9221"
            ],
            [
             1,
             "#276419"
            ]
           ],
           "sequential": [
            [
             0,
             "#0d0887"
            ],
            [
             0.1111111111111111,
             "#46039f"
            ],
            [
             0.2222222222222222,
             "#7201a8"
            ],
            [
             0.3333333333333333,
             "#9c179e"
            ],
            [
             0.4444444444444444,
             "#bd3786"
            ],
            [
             0.5555555555555556,
             "#d8576b"
            ],
            [
             0.6666666666666666,
             "#ed7953"
            ],
            [
             0.7777777777777778,
             "#fb9f3a"
            ],
            [
             0.8888888888888888,
             "#fdca26"
            ],
            [
             1,
             "#f0f921"
            ]
           ],
           "sequentialminus": [
            [
             0,
             "#0d0887"
            ],
            [
             0.1111111111111111,
             "#46039f"
            ],
            [
             0.2222222222222222,
             "#7201a8"
            ],
            [
             0.3333333333333333,
             "#9c179e"
            ],
            [
             0.4444444444444444,
             "#bd3786"
            ],
            [
             0.5555555555555556,
             "#d8576b"
            ],
            [
             0.6666666666666666,
             "#ed7953"
            ],
            [
             0.7777777777777778,
             "#fb9f3a"
            ],
            [
             0.8888888888888888,
             "#fdca26"
            ],
            [
             1,
             "#f0f921"
            ]
           ]
          },
          "colorway": [
           "#636efa",
           "#EF553B",
           "#00cc96",
           "#ab63fa",
           "#FFA15A",
           "#19d3f3",
           "#FF6692",
           "#B6E880",
           "#FF97FF",
           "#FECB52"
          ],
          "font": {
           "color": "#2a3f5f"
          },
          "geo": {
           "bgcolor": "white",
           "lakecolor": "white",
           "landcolor": "#E5ECF6",
           "showlakes": true,
           "showland": true,
           "subunitcolor": "white"
          },
          "hoverlabel": {
           "align": "left"
          },
          "hovermode": "closest",
          "mapbox": {
           "style": "light"
          },
          "paper_bgcolor": "white",
          "plot_bgcolor": "#E5ECF6",
          "polar": {
           "angularaxis": {
            "gridcolor": "white",
            "linecolor": "white",
            "ticks": ""
           },
           "bgcolor": "#E5ECF6",
           "radialaxis": {
            "gridcolor": "white",
            "linecolor": "white",
            "ticks": ""
           }
          },
          "scene": {
           "xaxis": {
            "backgroundcolor": "#E5ECF6",
            "gridcolor": "white",
            "gridwidth": 2,
            "linecolor": "white",
            "showbackground": true,
            "ticks": "",
            "zerolinecolor": "white"
           },
           "yaxis": {
            "backgroundcolor": "#E5ECF6",
            "gridcolor": "white",
            "gridwidth": 2,
            "linecolor": "white",
            "showbackground": true,
            "ticks": "",
            "zerolinecolor": "white"
           },
           "zaxis": {
            "backgroundcolor": "#E5ECF6",
            "gridcolor": "white",
            "gridwidth": 2,
            "linecolor": "white",
            "showbackground": true,
            "ticks": "",
            "zerolinecolor": "white"
           }
          },
          "shapedefaults": {
           "line": {
            "color": "#2a3f5f"
           }
          },
          "ternary": {
           "aaxis": {
            "gridcolor": "white",
            "linecolor": "white",
            "ticks": ""
           },
           "baxis": {
            "gridcolor": "white",
            "linecolor": "white",
            "ticks": ""
           },
           "bgcolor": "#E5ECF6",
           "caxis": {
            "gridcolor": "white",
            "linecolor": "white",
            "ticks": ""
           }
          },
          "title": {
           "x": 0.05
          },
          "xaxis": {
           "automargin": true,
           "gridcolor": "white",
           "linecolor": "white",
           "ticks": "",
           "title": {
            "standoff": 15
           },
           "zerolinecolor": "white",
           "zerolinewidth": 2
          },
          "yaxis": {
           "automargin": true,
           "gridcolor": "white",
           "linecolor": "white",
           "ticks": "",
           "title": {
            "standoff": 15
           },
           "zerolinecolor": "white",
           "zerolinewidth": 2
          }
         }
        },
        "title": {
         "font": {
          "size": 35
         },
         "text": "Category Counts",
         "x": 0.5
        },
        "width": 800,
        "xaxis": {
         "anchor": "y",
         "domain": [
          0,
          1
         ],
         "showgrid": false,
         "title": {
          "text": "Category"
         }
        },
        "yaxis": {
         "anchor": "x",
         "domain": [
          0,
          1
         ],
         "showgrid": false,
         "title": {
          "text": "Value"
         }
        }
       }
      },
      "text/html": [
       "<div>                            <div id=\"bfb99bb7-1ee4-4a6d-b6a6-bdd8f8c1156f\" class=\"plotly-graph-div\" style=\"height:500px; width:800px;\"></div>            <script type=\"text/javascript\">                require([\"plotly\"], function(Plotly) {                    window.PLOTLYENV=window.PLOTLYENV || {};                                    if (document.getElementById(\"bfb99bb7-1ee4-4a6d-b6a6-bdd8f8c1156f\")) {                    Plotly.newPlot(                        \"bfb99bb7-1ee4-4a6d-b6a6-bdd8f8c1156f\",                        [{\"alignmentgroup\":\"True\",\"hovertemplate\":\"Category:'%{x}' Counted: %{y}\",\"legendgroup\":\"\",\"marker\":{\"color\":[1,5,4,3,2],\"coloraxis\":\"coloraxis\",\"pattern\":{\"shape\":\"\"}},\"name\":\"\",\"offsetgroup\":\"\",\"orientation\":\"v\",\"showlegend\":false,\"text\":[127409.0,94199.0,39330.0,39315.0,33866.0],\"textposition\":\"auto\",\"x\":[1,5,4,3,2],\"xaxis\":\"x\",\"y\":[127409,94199,39330,39315,33866],\"yaxis\":\"y\",\"type\":\"bar\"}],                        {\"barmode\":\"relative\",\"coloraxis\":{\"colorbar\":{\"title\":{\"text\":\"color\"}},\"colorscale\":[[0.0,\"#0d0887\"],[0.1111111111111111,\"#46039f\"],[0.2222222222222222,\"#7201a8\"],[0.3333333333333333,\"#9c179e\"],[0.4444444444444444,\"#bd3786\"],[0.5555555555555556,\"#d8576b\"],[0.6666666666666666,\"#ed7953\"],[0.7777777777777778,\"#fb9f3a\"],[0.8888888888888888,\"#fdca26\"],[1.0,\"#f0f921\"]]},\"height\":500,\"legend\":{\"tracegroupgap\":0},\"margin\":{\"t\":60},\"plot_bgcolor\":\"white\",\"showlegend\":false,\"template\":{\"data\":{\"barpolar\":[{\"marker\":{\"line\":{\"color\":\"#E5ECF6\",\"width\":0.5},\"pattern\":{\"fillmode\":\"overlay\",\"size\":10,\"solidity\":0.2}},\"type\":\"barpolar\"}],\"bar\":[{\"error_x\":{\"color\":\"#2a3f5f\"},\"error_y\":{\"color\":\"#2a3f5f\"},\"marker\":{\"line\":{\"color\":\"#E5ECF6\",\"width\":0.5},\"pattern\":{\"fillmode\":\"overlay\",\"size\":10,\"solidity\":0.2}},\"type\":\"bar\"}],\"carpet\":[{\"aaxis\":{\"endlinecolor\":\"#2a3f5f\",\"gridcolor\":\"white\",\"linecolor\":\"white\",\"minorgridcolor\":\"white\",\"startlinecolor\":\"#2a3f5f\"},\"baxis\":{\"endlinecolor\":\"#2a3f5f\",\"gridcolor\":\"white\",\"linecolor\":\"white\",\"minorgridcolor\":\"white\",\"startlinecolor\":\"#2a3f5f\"},\"type\":\"carpet\"}],\"choropleth\":[{\"colorbar\":{\"outlinewidth\":0,\"ticks\":\"\"},\"type\":\"choropleth\"}],\"contourcarpet\":[{\"colorbar\":{\"outlinewidth\":0,\"ticks\":\"\"},\"type\":\"contourcarpet\"}],\"contour\":[{\"colorbar\":{\"outlinewidth\":0,\"ticks\":\"\"},\"colorscale\":[[0.0,\"#0d0887\"],[0.1111111111111111,\"#46039f\"],[0.2222222222222222,\"#7201a8\"],[0.3333333333333333,\"#9c179e\"],[0.4444444444444444,\"#bd3786\"],[0.5555555555555556,\"#d8576b\"],[0.6666666666666666,\"#ed7953\"],[0.7777777777777778,\"#fb9f3a\"],[0.8888888888888888,\"#fdca26\"],[1.0,\"#f0f921\"]],\"type\":\"contour\"}],\"heatmapgl\":[{\"colorbar\":{\"outlinewidth\":0,\"ticks\":\"\"},\"colorscale\":[[0.0,\"#0d0887\"],[0.1111111111111111,\"#46039f\"],[0.2222222222222222,\"#7201a8\"],[0.3333333333333333,\"#9c179e\"],[0.4444444444444444,\"#bd3786\"],[0.5555555555555556,\"#d8576b\"],[0.6666666666666666,\"#ed7953\"],[0.7777777777777778,\"#fb9f3a\"],[0.8888888888888888,\"#fdca26\"],[1.0,\"#f0f921\"]],\"type\":\"heatmapgl\"}],\"heatmap\":[{\"colorbar\":{\"outlinewidth\":0,\"ticks\":\"\"},\"colorscale\":[[0.0,\"#0d0887\"],[0.1111111111111111,\"#46039f\"],[0.2222222222222222,\"#7201a8\"],[0.3333333333333333,\"#9c179e\"],[0.4444444444444444,\"#bd3786\"],[0.5555555555555556,\"#d8576b\"],[0.6666666666666666,\"#ed7953\"],[0.7777777777777778,\"#fb9f3a\"],[0.8888888888888888,\"#fdca26\"],[1.0,\"#f0f921\"]],\"type\":\"heatmap\"}],\"histogram2dcontour\":[{\"colorbar\":{\"outlinewidth\":0,\"ticks\":\"\"},\"colorscale\":[[0.0,\"#0d0887\"],[0.1111111111111111,\"#46039f\"],[0.2222222222222222,\"#7201a8\"],[0.3333333333333333,\"#9c179e\"],[0.4444444444444444,\"#bd3786\"],[0.5555555555555556,\"#d8576b\"],[0.6666666666666666,\"#ed7953\"],[0.7777777777777778,\"#fb9f3a\"],[0.8888888888888888,\"#fdca26\"],[1.0,\"#f0f921\"]],\"type\":\"histogram2dcontour\"}],\"histogram2d\":[{\"colorbar\":{\"outlinewidth\":0,\"ticks\":\"\"},\"colorscale\":[[0.0,\"#0d0887\"],[0.1111111111111111,\"#46039f\"],[0.2222222222222222,\"#7201a8\"],[0.3333333333333333,\"#9c179e\"],[0.4444444444444444,\"#bd3786\"],[0.5555555555555556,\"#d8576b\"],[0.6666666666666666,\"#ed7953\"],[0.7777777777777778,\"#fb9f3a\"],[0.8888888888888888,\"#fdca26\"],[1.0,\"#f0f921\"]],\"type\":\"histogram2d\"}],\"histogram\":[{\"marker\":{\"pattern\":{\"fillmode\":\"overlay\",\"size\":10,\"solidity\":0.2}},\"type\":\"histogram\"}],\"mesh3d\":[{\"colorbar\":{\"outlinewidth\":0,\"ticks\":\"\"},\"type\":\"mesh3d\"}],\"parcoords\":[{\"line\":{\"colorbar\":{\"outlinewidth\":0,\"ticks\":\"\"}},\"type\":\"parcoords\"}],\"pie\":[{\"automargin\":true,\"type\":\"pie\"}],\"scatter3d\":[{\"line\":{\"colorbar\":{\"outlinewidth\":0,\"ticks\":\"\"}},\"marker\":{\"colorbar\":{\"outlinewidth\":0,\"ticks\":\"\"}},\"type\":\"scatter3d\"}],\"scattercarpet\":[{\"marker\":{\"colorbar\":{\"outlinewidth\":0,\"ticks\":\"\"}},\"type\":\"scattercarpet\"}],\"scattergeo\":[{\"marker\":{\"colorbar\":{\"outlinewidth\":0,\"ticks\":\"\"}},\"type\":\"scattergeo\"}],\"scattergl\":[{\"marker\":{\"colorbar\":{\"outlinewidth\":0,\"ticks\":\"\"}},\"type\":\"scattergl\"}],\"scattermapbox\":[{\"marker\":{\"colorbar\":{\"outlinewidth\":0,\"ticks\":\"\"}},\"type\":\"scattermapbox\"}],\"scatterpolargl\":[{\"marker\":{\"colorbar\":{\"outlinewidth\":0,\"ticks\":\"\"}},\"type\":\"scatterpolargl\"}],\"scatterpolar\":[{\"marker\":{\"colorbar\":{\"outlinewidth\":0,\"ticks\":\"\"}},\"type\":\"scatterpolar\"}],\"scatter\":[{\"fillpattern\":{\"fillmode\":\"overlay\",\"size\":10,\"solidity\":0.2},\"type\":\"scatter\"}],\"scatterternary\":[{\"marker\":{\"colorbar\":{\"outlinewidth\":0,\"ticks\":\"\"}},\"type\":\"scatterternary\"}],\"surface\":[{\"colorbar\":{\"outlinewidth\":0,\"ticks\":\"\"},\"colorscale\":[[0.0,\"#0d0887\"],[0.1111111111111111,\"#46039f\"],[0.2222222222222222,\"#7201a8\"],[0.3333333333333333,\"#9c179e\"],[0.4444444444444444,\"#bd3786\"],[0.5555555555555556,\"#d8576b\"],[0.6666666666666666,\"#ed7953\"],[0.7777777777777778,\"#fb9f3a\"],[0.8888888888888888,\"#fdca26\"],[1.0,\"#f0f921\"]],\"type\":\"surface\"}],\"table\":[{\"cells\":{\"fill\":{\"color\":\"#EBF0F8\"},\"line\":{\"color\":\"white\"}},\"header\":{\"fill\":{\"color\":\"#C8D4E3\"},\"line\":{\"color\":\"white\"}},\"type\":\"table\"}]},\"layout\":{\"annotationdefaults\":{\"arrowcolor\":\"#2a3f5f\",\"arrowhead\":0,\"arrowwidth\":1},\"autotypenumbers\":\"strict\",\"coloraxis\":{\"colorbar\":{\"outlinewidth\":0,\"ticks\":\"\"}},\"colorscale\":{\"diverging\":[[0,\"#8e0152\"],[0.1,\"#c51b7d\"],[0.2,\"#de77ae\"],[0.3,\"#f1b6da\"],[0.4,\"#fde0ef\"],[0.5,\"#f7f7f7\"],[0.6,\"#e6f5d0\"],[0.7,\"#b8e186\"],[0.8,\"#7fbc41\"],[0.9,\"#4d9221\"],[1,\"#276419\"]],\"sequential\":[[0.0,\"#0d0887\"],[0.1111111111111111,\"#46039f\"],[0.2222222222222222,\"#7201a8\"],[0.3333333333333333,\"#9c179e\"],[0.4444444444444444,\"#bd3786\"],[0.5555555555555556,\"#d8576b\"],[0.6666666666666666,\"#ed7953\"],[0.7777777777777778,\"#fb9f3a\"],[0.8888888888888888,\"#fdca26\"],[1.0,\"#f0f921\"]],\"sequentialminus\":[[0.0,\"#0d0887\"],[0.1111111111111111,\"#46039f\"],[0.2222222222222222,\"#7201a8\"],[0.3333333333333333,\"#9c179e\"],[0.4444444444444444,\"#bd3786\"],[0.5555555555555556,\"#d8576b\"],[0.6666666666666666,\"#ed7953\"],[0.7777777777777778,\"#fb9f3a\"],[0.8888888888888888,\"#fdca26\"],[1.0,\"#f0f921\"]]},\"colorway\":[\"#636efa\",\"#EF553B\",\"#00cc96\",\"#ab63fa\",\"#FFA15A\",\"#19d3f3\",\"#FF6692\",\"#B6E880\",\"#FF97FF\",\"#FECB52\"],\"font\":{\"color\":\"#2a3f5f\"},\"geo\":{\"bgcolor\":\"white\",\"lakecolor\":\"white\",\"landcolor\":\"#E5ECF6\",\"showlakes\":true,\"showland\":true,\"subunitcolor\":\"white\"},\"hoverlabel\":{\"align\":\"left\"},\"hovermode\":\"closest\",\"mapbox\":{\"style\":\"light\"},\"paper_bgcolor\":\"white\",\"plot_bgcolor\":\"#E5ECF6\",\"polar\":{\"angularaxis\":{\"gridcolor\":\"white\",\"linecolor\":\"white\",\"ticks\":\"\"},\"bgcolor\":\"#E5ECF6\",\"radialaxis\":{\"gridcolor\":\"white\",\"linecolor\":\"white\",\"ticks\":\"\"}},\"scene\":{\"xaxis\":{\"backgroundcolor\":\"#E5ECF6\",\"gridcolor\":\"white\",\"gridwidth\":2,\"linecolor\":\"white\",\"showbackground\":true,\"ticks\":\"\",\"zerolinecolor\":\"white\"},\"yaxis\":{\"backgroundcolor\":\"#E5ECF6\",\"gridcolor\":\"white\",\"gridwidth\":2,\"linecolor\":\"white\",\"showbackground\":true,\"ticks\":\"\",\"zerolinecolor\":\"white\"},\"zaxis\":{\"backgroundcolor\":\"#E5ECF6\",\"gridcolor\":\"white\",\"gridwidth\":2,\"linecolor\":\"white\",\"showbackground\":true,\"ticks\":\"\",\"zerolinecolor\":\"white\"}},\"shapedefaults\":{\"line\":{\"color\":\"#2a3f5f\"}},\"ternary\":{\"aaxis\":{\"gridcolor\":\"white\",\"linecolor\":\"white\",\"ticks\":\"\"},\"baxis\":{\"gridcolor\":\"white\",\"linecolor\":\"white\",\"ticks\":\"\"},\"bgcolor\":\"#E5ECF6\",\"caxis\":{\"gridcolor\":\"white\",\"linecolor\":\"white\",\"ticks\":\"\"}},\"title\":{\"x\":0.05},\"xaxis\":{\"automargin\":true,\"gridcolor\":\"white\",\"linecolor\":\"white\",\"ticks\":\"\",\"title\":{\"standoff\":15},\"zerolinecolor\":\"white\",\"zerolinewidth\":2},\"yaxis\":{\"automargin\":true,\"gridcolor\":\"white\",\"linecolor\":\"white\",\"ticks\":\"\",\"title\":{\"standoff\":15},\"zerolinecolor\":\"white\",\"zerolinewidth\":2}}},\"title\":{\"font\":{\"size\":35},\"text\":\"Category Counts\",\"x\":0.5},\"width\":800,\"xaxis\":{\"anchor\":\"y\",\"domain\":[0.0,1.0],\"showgrid\":false,\"title\":{\"text\":\"Category\"}},\"yaxis\":{\"anchor\":\"x\",\"domain\":[0.0,1.0],\"showgrid\":false,\"title\":{\"text\":\"Value\"}}},                        {\"responsive\": true}                    ).then(function(){\n",
       "                            \n",
       "var gd = document.getElementById('bfb99bb7-1ee4-4a6d-b6a6-bdd8f8c1156f');\n",
       "var x = new MutationObserver(function (mutations, observer) {{\n",
       "        var display = window.getComputedStyle(gd).display;\n",
       "        if (!display || display === 'none') {{\n",
       "            console.log([gd, 'removed!']);\n",
       "            Plotly.purge(gd);\n",
       "            observer.disconnect();\n",
       "        }}\n",
       "}});\n",
       "\n",
       "// Listen for the removal of the full notebook cells\n",
       "var notebookContainer = gd.closest('#notebook-container');\n",
       "if (notebookContainer) {{\n",
       "    x.observe(notebookContainer, {childList: true});\n",
       "}}\n",
       "\n",
       "// Listen for the clearing of the current output cell\n",
       "var outputEl = gd.closest('.output');\n",
       "if (outputEl) {{\n",
       "    x.observe(outputEl, {childList: true});\n",
       "}}\n",
       "\n",
       "                        })                };                });            </script>        </div>"
      ]
     },
     "metadata": {},
     "output_type": "display_data"
    }
   ],
   "source": [
    "import plotly.graph_objects as go\n",
    "from plotly.offline import iplot, init_notebook_mode\n",
    "import plotly.express as px\n",
    "import plotly.io as pio\n",
    "\n",
    "init_notebook_mode(True)\n",
    "\n",
    "fig = px.bar(x=data.ratings_overall.value_counts().index,y=data.ratings_overall.value_counts(),color=data.ratings_overall.value_counts().index,text=data.ratings_overall.value_counts())\n",
    "fig.update_traces(hovertemplate=\"Category:'%{x}' Counted: %{y}\")\n",
    "fig.update_layout(title={\"text\":\"Category Counts\",\"x\":0.5,\"font\":{\"size\":35}},xaxis={\"title\":\"Category\",\"showgrid\":False},yaxis={\"title\":\"Value\",\"showgrid\":False},plot_bgcolor=\"white\",width=800,height=500,showlegend=False)\n",
    "iplot(fig)"
   ]
  },
  {
   "cell_type": "code",
   "execution_count": null,
   "id": "e8462323",
   "metadata": {},
   "outputs": [],
   "source": []
  },
  {
   "cell_type": "code",
   "execution_count": 18,
   "id": "51ed5e59",
   "metadata": {},
   "outputs": [
    {
     "data": {
      "text/plain": [
       "Text(0.5, 1.0, 'Distribution of sentiments')"
      ]
     },
     "execution_count": 18,
     "metadata": {},
     "output_type": "execute_result"
    },
    {
     "data": {
      "image/png": "[encoded data removed]",
      "text/plain": [
       "<Figure size 700x700 with 1 Axes>"
      ]
     },
     "metadata": {},
     "output_type": "display_data"
    }
   ],
   "source": [
    "# visualizing data using piechart\n",
    "fig = plt.figure(figsize=(7,7))\n",
    "colors = ('red', 'green', 'blue')\n",
    "wp = {'linewidth':2, \"edgecolor\":'black'}\n",
    "tags = data['labels'].value_counts()\n",
    "explode=(0.1,0.1,0.1)\n",
    "tags.plot(kind='pie', autopct=\"%1.1f%%\", shadow=True, colors=colors, startangle=90, wedgeprops=wp, explode=explode, label='')\n",
    "plt.title(\"Distribution of sentiments\")"
   ]
  },
  {
   "cell_type": "code",
   "execution_count": 19,
   "id": "dd1154d8",
   "metadata": {},
   "outputs": [
    {
     "data": {
      "text/plain": [
       "Text(0.5, 1.0, 'Distribution of ratings')"
      ]
     },
     "execution_count": 19,
     "metadata": {},
     "output_type": "execute_result"
    },
    {
     "data": {
      "image/png": "[encoded data removed]",
      "text/plain": [
       "<Figure size 700x700 with 1 Axes>"
      ]
     },
     "metadata": {},
     "output_type": "display_data"
    }
   ],
   "source": [
    "# visualizing data using piechart\n",
    "fig = plt.figure(figsize=(7,7))\n",
    "colors = ('red', 'green', 'blue','yellow','purple')\n",
    "wp = {'linewidth':2, \"edgecolor\":'black'}\n",
    "tags = data['ratings_overall'].value_counts()\n",
    "explode=(0.1,0.1,0.1,0.1,0.1)\n",
    "tags.plot(kind='pie', autopct=\"%1.1f%%\", shadow=True, colors=colors, startangle=90, wedgeprops=wp, explode=explode, label='')\n",
    "plt.title(\"Distribution of ratings\")\n",
    "\n",
    "#here 1 bad, 2 neutral & 3 good"
   ]
  },
  {
   "cell_type": "code",
   "execution_count": 20,
   "id": "5fc5fa4e",
   "metadata": {},
   "outputs": [
    {
     "name": "stdout",
     "output_type": "stream",
     "text": [
      "REAL Most Used 20 Words\n",
      "the : 155351\n",
      "was : 136113\n",
      "good : 89312\n",
      "and : 75565\n",
      "food : 72332\n",
      "i : 62400\n",
      "it : 56166\n",
      "is : 56079\n",
      "not : 55565\n",
      "but : 50065\n",
      "of : 49486\n",
      "very : 49480\n",
      "chicken : 42144\n",
      "to : 36466\n",
      "a : 34332\n",
      "bad : 30647\n",
      "taste : 30600\n",
      "they : 30374\n",
      "in : 29714\n",
      "t : 25007\n"
     ]
    }
   ],
   "source": [
    "from collections import Counter\n",
    "wordList = list()\n",
    "for i in range(len(data)):\n",
    "    temp = data.text[i].split()\n",
    "    for k in temp:\n",
    "        k = re.sub(\"[^a-zA-Z]\",\"\",k)\n",
    "        if k != \"\":\n",
    "            wordList.append(k)\n",
    "wordCount = Counter(wordList)\n",
    "countedWordDict = dict(wordCount)\n",
    "sortedWordDict = sorted(countedWordDict.items(),key = lambda x : x[1],reverse=True)\n",
    "print(\"REAL Most Used 20 Words\")\n",
    "for word,counted in sortedWordDict[0:20]:\n",
    "    print(\"{} : {}\".format(word,counted))"
   ]
  },
  {
   "cell_type": "code",
   "execution_count": 21,
   "id": "a0cdcca6",
   "metadata": {},
   "outputs": [],
   "source": [
    "num = 75 # For using most used 75 words\n",
    "list1 = list()\n",
    "list2 = list()\n",
    "for i in range(num):\n",
    "    list1.append(wordCount.most_common(num)[i][0])\n",
    "    list2.append(wordCount.most_common(num)[i][1])"
   ]
  },
  {
   "cell_type": "code",
   "execution_count": 22,
   "id": "cb88ab01",
   "metadata": {},
   "outputs": [
    {
     "data": {
      "application/vnd.plotly.v1+json": {
       "config": {
        "plotlyServerURL": "https://plot.ly"
       },
       "data": [
        {
         "alignmentgroup": "True",
         "customdata": [
          [
           "the",
           155351
          ],
          [
           "was",
           136113
          ],
          [
           "good",
           89312
          ],
          [
           "and",
           75565
          ],
          [
           "food",
           72332
          ],
          [
           "i",
           62400
          ],
          [
           "it",
           56166
          ],
          [
           "is",
           56079
          ],
          [
           "not",
           55565
          ],
          [
           "but",
           50065
          ],
          [
           "of",
           49486
          ],
          [
           "very",
           49480
          ],
          [
           "chicken",
           42144
          ],
          [
           "to",
           36466
          ],
          [
           "a",
           34332
          ],
          [
           "bad",
           30647
          ],
          [
           "taste",
           30600
          ],
          [
           "they",
           30374
          ],
          [
           "in",
           29714
          ],
          [
           "t",
           25007
          ],
          [
           "order",
           24556
          ],
          [
           "ordered",
           23740
          ],
          [
           "quality",
           22825
          ],
          [
           "so",
           22492
          ],
          [
           "too",
           22028
          ],
          [
           "quantity",
           20002
          ],
          [
           "for",
           19059
          ],
          [
           "with",
           17587
          ],
          [
           "rice",
           17183
          ],
          [
           "this",
           16522
          ],
          [
           "burger",
           15374
          ],
          [
           "price",
           14758
          ],
          [
           "were",
           14709
          ],
          [
           "meat",
           14497
          ],
          [
           "pizza",
           13997
          ],
          [
           "no",
           13550
          ],
          [
           "as",
           13549
          ],
          [
           "chilo",
           13538
          ],
          [
           "my",
           13161
          ],
          [
           "that",
           13149
          ],
          [
           "you",
           13009
          ],
          [
           "like",
           12856
          ],
          [
           "have",
           12529
          ],
          [
           "much",
           12485
          ],
          [
           "from",
           12458
          ],
          [
           "s",
           12378
          ],
          [
           "be",
           12301
          ],
          [
           "all",
           12040
          ],
          [
           "time",
           11376
          ],
          [
           "ta",
           11334
          ],
          [
           "worst",
           11054
          ],
          [
           "beef",
           10936
          ],
          [
           "one",
           10839
          ],
          [
           "best",
           10811
          ],
          [
           "less",
           10682
          ],
          [
           "there",
           10508
          ],
          [
           "are",
           10473
          ],
          [
           "me",
           10049
          ],
          [
           "poor",
           10046
          ],
          [
           "sauce",
           9983
          ],
          [
           "delivery",
           9926
          ],
          [
           "at",
           9695
          ],
          [
           "their",
           9659
          ],
          [
           "cold",
           9617
          ],
          [
           "didn",
           9383
          ],
          [
           "tasty",
           9177
          ],
          [
           "really",
           9171
          ],
          [
           "small",
           9137
          ],
          [
           "had",
           8915
          ],
          [
           "money",
           8723
          ],
          [
           "amount",
           8685
          ],
          [
           "just",
           8559
          ],
          [
           "also",
           8525
          ],
          [
           "more",
           8512
          ],
          [
           "delicious",
           8107
          ]
         ],
         "hovertemplate": "Word:'%{x}' Value: %{y}",
         "hovertext": [
          "the",
          "was",
          "good",
          "and",
          "food",
          "i",
          "it",
          "is",
          "not",
          "but",
          "of",
          "very",
          "chicken",
          "to",
          "a",
          "bad",
          "taste",
          "they",
          "in",
          "t",
          "order",
          "ordered",
          "quality",
          "so",
          "too",
          "quantity",
          "for",
          "with",
          "rice",
          "this",
          "burger",
          "price",
          "were",
          "meat",
          "pizza",
          "no",
          "as",
          "chilo",
          "my",
          "that",
          "you",
          "like",
          "have",
          "much",
          "from",
          "s",
          "be",
          "all",
          "time",
          "ta",
          "worst",
          "beef",
          "one",
          "best",
          "less",
          "there",
          "are",
          "me",
          "poor",
          "sauce",
          "delivery",
          "at",
          "their",
          "cold",
          "didn",
          "tasty",
          "really",
          "small",
          "had",
          "money",
          "amount",
          "just",
          "also",
          "more",
          "delicious"
         ],
         "legendgroup": "",
         "marker": {
          "color": [
           155351,
           136113,
           89312,
           75565,
           72332,
           62400,
           56166,
           56079,
           55565,
           50065,
           49486,
           49480,
           42144,
           36466,
           34332,
           30647,
           30600,
           30374,
           29714,
           25007,
           24556,
           23740,
           22825,
           22492,
           22028,
           20002,
           19059,
           17587,
           17183,
           16522,
           15374,
           14758,
           14709,
           14497,
           13997,
           13550,
           13549,
           13538,
           13161,
           13149,
           13009,
           12856,
           12529,
           12485,
           12458,
           12378,
           12301,
           12040,
           11376,
           11334,
           11054,
           10936,
           10839,
           10811,
           10682,
           10508,
           10473,
           10049,
           10046,
           9983,
           9926,
           9695,
           9659,
           9617,
           9383,
           9177,
           9171,
           9137,
           8915,
           8723,
           8685,
           8559,
           8525,
           8512,
           8107
          ],
          "coloraxis": "coloraxis",
          "pattern": {
           "shape": ""
          }
         },
         "name": "",
         "offsetgroup": "",
         "orientation": "v",
         "showlegend": false,
         "textposition": "auto",
         "type": "bar",
         "x": [
          "the",
          "was",
          "good",
          "and",
          "food",
          "i",
          "it",
          "is",
          "not",
          "but",
          "of",
          "very",
          "chicken",
          "to",
          "a",
          "bad",
          "taste",
          "they",
          "in",
          "t",
          "order",
          "ordered",
          "quality",
          "so",
          "too",
          "quantity",
          "for",
          "with",
          "rice",
          "this",
          "burger",
          "price",
          "were",
          "meat",
          "pizza",
          "no",
          "as",
          "chilo",
          "my",
          "that",
          "you",
          "like",
          "have",
          "much",
          "from",
          "s",
          "be",
          "all",
          "time",
          "ta",
          "worst",
          "beef",
          "one",
          "best",
          "less",
          "there",
          "are",
          "me",
          "poor",
          "sauce",
          "delivery",
          "at",
          "their",
          "cold",
          "didn",
          "tasty",
          "really",
          "small",
          "had",
          "money",
          "amount",
          "just",
          "also",
          "more",
          "delicious"
         ],
         "xaxis": "x",
         "y": [
          155351,
          136113,
          89312,
          75565,
          72332,
          62400,
          56166,
          56079,
          55565,
          50065,
          49486,
          49480,
          42144,
          36466,
          34332,
          30647,
          30600,
          30374,
          29714,
          25007,
          24556,
          23740,
          22825,
          22492,
          22028,
          20002,
          19059,
          17587,
          17183,
          16522,
          15374,
          14758,
          14709,
          14497,
          13997,
          13550,
          13549,
          13538,
          13161,
          13149,
          13009,
          12856,
          12529,
          12485,
          12458,
          12378,
          12301,
          12040,
          11376,
          11334,
          11054,
          10936,
          10839,
          10811,
          10682,
          10508,
          10473,
          10049,
          10046,
          9983,
          9926,
          9695,
          9659,
          9617,
          9383,
          9177,
          9171,
          9137,
          8915,
          8723,
          8685,
          8559,
          8525,
          8512,
          8107
         ],
         "yaxis": "y"
        }
       ],
       "layout": {
        "barmode": "relative",
        "coloraxis": {
         "colorbar": {
          "title": {
           "text": "color"
          }
         },
         "colorscale": [
          [
           0,
           "#0d0887"
          ],
          [
           0.1111111111111111,
           "#46039f"
          ],
          [
           0.2222222222222222,
           "#7201a8"
          ],
          [
           0.3333333333333333,
           "#9c179e"
          ],
          [
           0.4444444444444444,
           "#bd3786"
          ],
          [
           0.5555555555555556,
           "#d8576b"
          ],
          [
           0.6666666666666666,
           "#ed7953"
          ],
          [
           0.7777777777777778,
           "#fb9f3a"
          ],
          [
           0.8888888888888888,
           "#fdca26"
          ],
          [
           1,
           "#f0f921"
          ]
         ]
        },
        "legend": {
         "tracegroupgap": 0
        },
        "margin": {
         "t": 60
        },
        "plot_bgcolor": "white",
        "template": {
         "data": {
          "bar": [
           {
            "error_x": {
             "color": "#2a3f5f"
            },
            "error_y": {
             "color": "#2a3f5f"
            },
            "marker": {
             "line": {
              "color": "#E5ECF6",
              "width": 0.5
             },
             "pattern": {
              "fillmode": "overlay",
              "size": 10,
              "solidity": 0.2
             }
            },
            "type": "bar"
           }
          ],
          "barpolar": [
           {
            "marker": {
             "line": {
              "color": "#E5ECF6",
              "width": 0.5
             },
             "pattern": {
              "fillmode": "overlay",
              "size": 10,
              "solidity": 0.2
             }
            },
            "type": "barpolar"
           }
          ],
          "carpet": [
           {
            "aaxis": {
             "endlinecolor": "#2a3f5f",
             "gridcolor": "white",
             "linecolor": "white",
             "minorgridcolor": "white",
             "startlinecolor": "#2a3f5f"
            },
            "baxis": {
             "endlinecolor": "#2a3f5f",
             "gridcolor": "white",
             "linecolor": "white",
             "minorgridcolor": "white",
             "startlinecolor": "#2a3f5f"
            },
            "type": "carpet"
           }
          ],
          "choropleth": [
           {
            "colorbar": {
             "outlinewidth": 0,
             "ticks": ""
            },
            "type": "choropleth"
           }
          ],
          "contour": [
           {
            "colorbar": {
             "outlinewidth": 0,
             "ticks": ""
            },
            "colorscale": [
             [
              0,
              "#0d0887"
             ],
             [
              0.1111111111111111,
              "#46039f"
             ],
             [
              0.2222222222222222,
              "#7201a8"
             ],
             [
              0.3333333333333333,
              "#9c179e"
             ],
             [
              0.4444444444444444,
              "#bd3786"
             ],
             [
              0.5555555555555556,
              "#d8576b"
             ],
             [
              0.6666666666666666,
              "#ed7953"
             ],
             [
              0.7777777777777778,
              "#fb9f3a"
             ],
             [
              0.8888888888888888,
              "#fdca26"
             ],
             [
              1,
              "#f0f921"
             ]
            ],
            "type": "contour"
           }
          ],
          "contourcarpet": [
           {
            "colorbar": {
             "outlinewidth": 0,
             "ticks": ""
            },
            "type": "contourcarpet"
           }
          ],
          "heatmap": [
           {
            "colorbar": {
             "outlinewidth": 0,
             "ticks": ""
            },
            "colorscale": [
             [
              0,
              "#0d0887"
             ],
             [
              0.1111111111111111,
              "#46039f"
             ],
             [
              0.2222222222222222,
              "#7201a8"
             ],
             [
              0.3333333333333333,
              "#9c179e"
             ],
             [
              0.4444444444444444,
              "#bd3786"
             ],
             [
              0.5555555555555556,
              "#d8576b"
             ],
             [
              0.6666666666666666,
              "#ed7953"
             ],
             [
              0.7777777777777778,
              "#fb9f3a"
             ],
             [
              0.8888888888888888,
              "#fdca26"
             ],
             [
              1,
              "#f0f921"
             ]
            ],
            "type": "heatmap"
           }
          ],
          "heatmapgl": [
           {
            "colorbar": {
             "outlinewidth": 0,
             "ticks": ""
            },
            "colorscale": [
             [
              0,
              "#0d0887"
             ],
             [
              0.1111111111111111,
              "#46039f"
             ],
             [
              0.2222222222222222,
              "#7201a8"
             ],
             [
              0.3333333333333333,
              "#9c179e"
             ],
             [
              0.4444444444444444,
              "#bd3786"
             ],
             [
              0.5555555555555556,
              "#d8576b"
             ],
             [
              0.6666666666666666,
              "#ed7953"
             ],
             [
              0.7777777777777778,
              "#fb9f3a"
             ],
             [
              0.8888888888888888,
              "#fdca26"
             ],
             [
              1,
              "#f0f921"
             ]
            ],
            "type": "heatmapgl"
           }
          ],
          "histogram": [
           {
            "marker": {
             "pattern": {
              "fillmode": "overlay",
              "size": 10,
              "solidity": 0.2
             }
            },
            "type": "histogram"
           }
          ],
          "histogram2d": [
           {
            "colorbar": {
             "outlinewidth": 0,
             "ticks": ""
            },
            "colorscale": [
             [
              0,
              "#0d0887"
             ],
             [
              0.1111111111111111,
              "#46039f"
             ],
             [
              0.2222222222222222,
              "#7201a8"
             ],
             [
              0.3333333333333333,
              "#9c179e"
             ],
             [
              0.4444444444444444,
              "#bd3786"
             ],
             [
              0.5555555555555556,
              "#d8576b"
             ],
             [
              0.6666666666666666,
              "#ed7953"
             ],
             [
              0.7777777777777778,
              "#fb9f3a"
             ],
             [
              0.8888888888888888,
              "#fdca26"
             ],
             [
              1,
              "#f0f921"
             ]
            ],
            "type": "histogram2d"
           }
          ],
          "histogram2dcontour": [
           {
            "colorbar": {
             "outlinewidth": 0,
             "ticks": ""
            },
            "colorscale": [
             [
              0,
              "#0d0887"
             ],
             [
              0.1111111111111111,
              "#46039f"
             ],
             [
              0.2222222222222222,
              "#7201a8"
             ],
             [
              0.3333333333333333,
              "#9c179e"
             ],
             [
              0.4444444444444444,
              "#bd3786"
             ],
             [
              0.5555555555555556,
              "#d8576b"
             ],
             [
              0.6666666666666666,
              "#ed7953"
             ],
             [
              0.7777777777777778,
              "#fb9f3a"
             ],
             [
              0.8888888888888888,
              "#fdca26"
             ],
             [
              1,
              "#f0f921"
             ]
            ],
            "type": "histogram2dcontour"
           }
          ],
          "mesh3d": [
           {
            "colorbar": {
             "outlinewidth": 0,
             "ticks": ""
            },
            "type": "mesh3d"
           }
          ],
          "parcoords": [
           {
            "line": {
             "colorbar": {
              "outlinewidth": 0,
              "ticks": ""
             }
            },
            "type": "parcoords"
           }
          ],
          "pie": [
           {
            "automargin": true,
            "type": "pie"
           }
          ],
          "scatter": [
           {
            "fillpattern": {
             "fillmode": "overlay",
             "size": 10,
             "solidity": 0.2
            },
            "type": "scatter"
           }
          ],
          "scatter3d": [
           {
            "line": {
             "colorbar": {
              "outlinewidth": 0,
              "ticks": ""
             }
            },
            "marker": {
             "colorbar": {
              "outlinewidth": 0,
              "ticks": ""
             }
            },
            "type": "scatter3d"
           }
          ],
          "scattercarpet": [
           {
            "marker": {
             "colorbar": {
              "outlinewidth": 0,
              "ticks": ""
             }
            },
            "type": "scattercarpet"
           }
          ],
          "scattergeo": [
           {
            "marker": {
             "colorbar": {
              "outlinewidth": 0,
              "ticks": ""
             }
            },
            "type": "scattergeo"
           }
          ],
          "scattergl": [
           {
            "marker": {
             "colorbar": {
              "outlinewidth": 0,
              "ticks": ""
             }
            },
            "type": "scattergl"
           }
          ],
          "scattermapbox": [
           {
            "marker": {
             "colorbar": {
              "outlinewidth": 0,
              "ticks": ""
             }
            },
            "type": "scattermapbox"
           }
          ],
          "scatterpolar": [
           {
            "marker": {
             "colorbar": {
              "outlinewidth": 0,
              "ticks": ""
             }
            },
            "type": "scatterpolar"
           }
          ],
          "scatterpolargl": [
           {
            "marker": {
             "colorbar": {
              "outlinewidth": 0,
              "ticks": ""
             }
            },
            "type": "scatterpolargl"
           }
          ],
          "scatterternary": [
           {
            "marker": {
             "colorbar": {
              "outlinewidth": 0,
              "ticks": ""
             }
            },
            "type": "scatterternary"
           }
          ],
          "surface": [
           {
            "colorbar": {
             "outlinewidth": 0,
             "ticks": ""
            },
            "colorscale": [
             [
              0,
              "#0d0887"
             ],
             [
              0.1111111111111111,
              "#46039f"
             ],
             [
              0.2222222222222222,
              "#7201a8"
             ],
             [
              0.3333333333333333,
              "#9c179e"
             ],
             [
              0.4444444444444444,
              "#bd3786"
             ],
             [
              0.5555555555555556,
              "#d8576b"
             ],
             [
              0.6666666666666666,
              "#ed7953"
             ],
             [
              0.7777777777777778,
              "#fb9f3a"
             ],
             [
              0.8888888888888888,
              "#fdca26"
             ],
             [
              1,
              "#f0f921"
             ]
            ],
            "type": "surface"
           }
          ],
          "table": [
           {
            "cells": {
             "fill": {
              "color": "#EBF0F8"
             },
             "line": {
              "color": "white"
             }
            },
            "header": {
             "fill": {
              "color": "#C8D4E3"
             },
             "line": {
              "color": "white"
             }
            },
            "type": "table"
           }
          ]
         },
         "layout": {
          "annotationdefaults": {
           "arrowcolor": "#2a3f5f",
           "arrowhead": 0,
           "arrowwidth": 1
          },
          "autotypenumbers": "strict",
          "coloraxis": {
           "colorbar": {
            "outlinewidth": 0,
            "ticks": ""
           }
          },
          "colorscale": {
           "diverging": [
            [
             0,
             "#8e0152"
            ],
            [
             0.1,
             "#c51b7d"
            ],
            [
             0.2,
             "#de77ae"
            ],
            [
             0.3,
             "#f1b6da"
            ],
            [
             0.4,
             "#fde0ef"
            ],
            [
             0.5,
             "#f7f7f7"
            ],
            [
             0.6,
             "#e6f5d0"
            ],
            [
             0.7,
             "#b8e186"
            ],
            [
             0.8,
             "#7fbc41"
            ],
            [
             0.9,
             "#4d9221"
            ],
            [
             1,
             "#276419"
            ]
           ],
           "sequential": [
            [
             0,
             "#0d0887"
            ],
            [
             0.1111111111111111,
             "#46039f"
            ],
            [
             0.2222222222222222,
             "#7201a8"
            ],
            [
             0.3333333333333333,
             "#9c179e"
            ],
            [
             0.4444444444444444,
             "#bd3786"
            ],
            [
             0.5555555555555556,
             "#d8576b"
            ],
            [
             0.6666666666666666,
             "#ed7953"
            ],
            [
             0.7777777777777778,
             "#fb9f3a"
            ],
            [
             0.8888888888888888,
             "#fdca26"
            ],
            [
             1,
             "#f0f921"
            ]
           ],
           "sequentialminus": [
            [
             0,
             "#0d0887"
            ],
            [
             0.1111111111111111,
             "#46039f"
            ],
            [
             0.2222222222222222,
             "#7201a8"
            ],
            [
             0.3333333333333333,
             "#9c179e"
            ],
            [
             0.4444444444444444,
             "#bd3786"
            ],
            [
             0.5555555555555556,
             "#d8576b"
            ],
            [
             0.6666666666666666,
             "#ed7953"
            ],
            [
             0.7777777777777778,
             "#fb9f3a"
            ],
            [
             0.8888888888888888,
             "#fdca26"
            ],
            [
             1,
             "#f0f921"
            ]
           ]
          },
          "colorway": [
           "#636efa",
           "#EF553B",
           "#00cc96",
           "#ab63fa",
           "#FFA15A",
           "#19d3f3",
           "#FF6692",
           "#B6E880",
           "#FF97FF",
           "#FECB52"
          ],
          "font": {
           "color": "#2a3f5f"
          },
          "geo": {
           "bgcolor": "white",
           "lakecolor": "white",
           "landcolor": "#E5ECF6",
           "showlakes": true,
           "showland": true,
           "subunitcolor": "white"
          },
          "hoverlabel": {
           "align": "left"
          },
          "hovermode": "closest",
          "mapbox": {
           "style": "light"
          },
          "paper_bgcolor": "white",
          "plot_bgcolor": "#E5ECF6",
          "polar": {
           "angularaxis": {
            "gridcolor": "white",
            "linecolor": "white",
            "ticks": ""
           },
           "bgcolor": "#E5ECF6",
           "radialaxis": {
            "gridcolor": "white",
            "linecolor": "white",
            "ticks": ""
           }
          },
          "scene": {
           "xaxis": {
            "backgroundcolor": "#E5ECF6",
            "gridcolor": "white",
            "gridwidth": 2,
            "linecolor": "white",
            "showbackground": true,
            "ticks": "",
            "zerolinecolor": "white"
           },
           "yaxis": {
            "backgroundcolor": "#E5ECF6",
            "gridcolor": "white",
            "gridwidth": 2,
            "linecolor": "white",
            "showbackground": true,
            "ticks": "",
            "zerolinecolor": "white"
           },
           "zaxis": {
            "backgroundcolor": "#E5ECF6",
            "gridcolor": "white",
            "gridwidth": 2,
            "linecolor": "white",
            "showbackground": true,
            "ticks": "",
            "zerolinecolor": "white"
           }
          },
          "shapedefaults": {
           "line": {
            "color": "#2a3f5f"
           }
          },
          "ternary": {
           "aaxis": {
            "gridcolor": "white",
            "linecolor": "white",
            "ticks": ""
           },
           "baxis": {
            "gridcolor": "white",
            "linecolor": "white",
            "ticks": ""
           },
           "bgcolor": "#E5ECF6",
           "caxis": {
            "gridcolor": "white",
            "linecolor": "white",
            "ticks": ""
           }
          },
          "title": {
           "x": 0.05
          },
          "xaxis": {
           "automargin": true,
           "gridcolor": "white",
           "linecolor": "white",
           "ticks": "",
           "title": {
            "standoff": 15
           },
           "zerolinecolor": "white",
           "zerolinewidth": 2
          },
          "yaxis": {
           "automargin": true,
           "gridcolor": "white",
           "linecolor": "white",
           "ticks": "",
           "title": {
            "standoff": 15
           },
           "zerolinecolor": "white",
           "zerolinewidth": 2
          }
         }
        },
        "title": {
         "font": {
          "size": 30
         },
         "text": "Word Values",
         "x": 0.5
        },
        "xaxis": {
         "anchor": "y",
         "domain": [
          0,
          1
         ],
         "showgrid": false,
         "title": {
          "text": "Words"
         }
        },
        "yaxis": {
         "anchor": "x",
         "domain": [
          0,
          1
         ],
         "showgrid": false,
         "title": {
          "text": "Value"
         }
        }
       }
      },
      "text/html": [
       "<div>                            <div id=\"79a59282-7b1e-40be-bfd4-93509a2b797d\" class=\"plotly-graph-div\" style=\"height:525px; width:100%;\"></div>            <script type=\"text/javascript\">                require([\"plotly\"], function(Plotly) {                    window.PLOTLYENV=window.PLOTLYENV || {};                                    if (document.getElementById(\"79a59282-7b1e-40be-bfd4-93509a2b797d\")) {                    Plotly.newPlot(                        \"79a59282-7b1e-40be-bfd4-93509a2b797d\",                        [{\"alignmentgroup\":\"True\",\"customdata\":[[\"the\",155351],[\"was\",136113],[\"good\",89312],[\"and\",75565],[\"food\",72332],[\"i\",62400],[\"it\",56166],[\"is\",56079],[\"not\",55565],[\"but\",50065],[\"of\",49486],[\"very\",49480],[\"chicken\",42144],[\"to\",36466],[\"a\",34332],[\"bad\",30647],[\"taste\",30600],[\"they\",30374],[\"in\",29714],[\"t\",25007],[\"order\",24556],[\"ordered\",23740],[\"quality\",22825],[\"so\",22492],[\"too\",22028],[\"quantity\",20002],[\"for\",19059],[\"with\",17587],[\"rice\",17183],[\"this\",16522],[\"burger\",15374],[\"price\",14758],[\"were\",14709],[\"meat\",14497],[\"pizza\",13997],[\"no\",13550],[\"as\",13549],[\"chilo\",13538],[\"my\",13161],[\"that\",13149],[\"you\",13009],[\"like\",12856],[\"have\",12529],[\"much\",12485],[\"from\",12458],[\"s\",12378],[\"be\",12301],[\"all\",12040],[\"time\",11376],[\"ta\",11334],[\"worst\",11054],[\"beef\",10936],[\"one\",10839],[\"best\",10811],[\"less\",10682],[\"there\",10508],[\"are\",10473],[\"me\",10049],[\"poor\",10046],[\"sauce\",9983],[\"delivery\",9926],[\"at\",9695],[\"their\",9659],[\"cold\",9617],[\"didn\",9383],[\"tasty\",9177],[\"really\",9171],[\"small\",9137],[\"had\",8915],[\"money\",8723],[\"amount\",8685],[\"just\",8559],[\"also\",8525],[\"more\",8512],[\"delicious\",8107]],\"hovertemplate\":\"Word:'%{x}' Value: %{y}\",\"hovertext\":[\"the\",\"was\",\"good\",\"and\",\"food\",\"i\",\"it\",\"is\",\"not\",\"but\",\"of\",\"very\",\"chicken\",\"to\",\"a\",\"bad\",\"taste\",\"they\",\"in\",\"t\",\"order\",\"ordered\",\"quality\",\"so\",\"too\",\"quantity\",\"for\",\"with\",\"rice\",\"this\",\"burger\",\"price\",\"were\",\"meat\",\"pizza\",\"no\",\"as\",\"chilo\",\"my\",\"that\",\"you\",\"like\",\"have\",\"much\",\"from\",\"s\",\"be\",\"all\",\"time\",\"ta\",\"worst\",\"beef\",\"one\",\"best\",\"less\",\"there\",\"are\",\"me\",\"poor\",\"sauce\",\"delivery\",\"at\",\"their\",\"cold\",\"didn\",\"tasty\",\"really\",\"small\",\"had\",\"money\",\"amount\",\"just\",\"also\",\"more\",\"delicious\"],\"legendgroup\":\"\",\"marker\":{\"color\":[155351,136113,89312,75565,72332,62400,56166,56079,55565,50065,49486,49480,42144,36466,34332,30647,30600,30374,29714,25007,24556,23740,22825,22492,22028,20002,19059,17587,17183,16522,15374,14758,14709,14497,13997,13550,13549,13538,13161,13149,13009,12856,12529,12485,12458,12378,12301,12040,11376,11334,11054,10936,10839,10811,10682,10508,10473,10049,10046,9983,9926,9695,9659,9617,9383,9177,9171,9137,8915,8723,8685,8559,8525,8512,8107],\"coloraxis\":\"coloraxis\",\"pattern\":{\"shape\":\"\"}},\"name\":\"\",\"offsetgroup\":\"\",\"orientation\":\"v\",\"showlegend\":false,\"textposition\":\"auto\",\"x\":[\"the\",\"was\",\"good\",\"and\",\"food\",\"i\",\"it\",\"is\",\"not\",\"but\",\"of\",\"very\",\"chicken\",\"to\",\"a\",\"bad\",\"taste\",\"they\",\"in\",\"t\",\"order\",\"ordered\",\"quality\",\"so\",\"too\",\"quantity\",\"for\",\"with\",\"rice\",\"this\",\"burger\",\"price\",\"were\",\"meat\",\"pizza\",\"no\",\"as\",\"chilo\",\"my\",\"that\",\"you\",\"like\",\"have\",\"much\",\"from\",\"s\",\"be\",\"all\",\"time\",\"ta\",\"worst\",\"beef\",\"one\",\"best\",\"less\",\"there\",\"are\",\"me\",\"poor\",\"sauce\",\"delivery\",\"at\",\"their\",\"cold\",\"didn\",\"tasty\",\"really\",\"small\",\"had\",\"money\",\"amount\",\"just\",\"also\",\"more\",\"delicious\"],\"xaxis\":\"x\",\"y\":[155351,136113,89312,75565,72332,62400,56166,56079,55565,50065,49486,49480,42144,36466,34332,30647,30600,30374,29714,25007,24556,23740,22825,22492,22028,20002,19059,17587,17183,16522,15374,14758,14709,14497,13997,13550,13549,13538,13161,13149,13009,12856,12529,12485,12458,12378,12301,12040,11376,11334,11054,10936,10839,10811,10682,10508,10473,10049,10046,9983,9926,9695,9659,9617,9383,9177,9171,9137,8915,8723,8685,8559,8525,8512,8107],\"yaxis\":\"y\",\"type\":\"bar\"}],                        {\"template\":{\"data\":{\"histogram2dcontour\":[{\"type\":\"histogram2dcontour\",\"colorbar\":{\"outlinewidth\":0,\"ticks\":\"\"},\"colorscale\":[[0.0,\"#0d0887\"],[0.1111111111111111,\"#46039f\"],[0.2222222222222222,\"#7201a8\"],[0.3333333333333333,\"#9c179e\"],[0.4444444444444444,\"#bd3786\"],[0.5555555555555556,\"#d8576b\"],[0.6666666666666666,\"#ed7953\"],[0.7777777777777778,\"#fb9f3a\"],[0.8888888888888888,\"#fdca26\"],[1.0,\"#f0f921\"]]}],\"choropleth\":[{\"type\":\"choropleth\",\"colorbar\":{\"outlinewidth\":0,\"ticks\":\"\"}}],\"histogram2d\":[{\"type\":\"histogram2d\",\"colorbar\":{\"outlinewidth\":0,\"ticks\":\"\"},\"colorscale\":[[0.0,\"#0d0887\"],[0.1111111111111111,\"#46039f\"],[0.2222222222222222,\"#7201a8\"],[0.3333333333333333,\"#9c179e\"],[0.4444444444444444,\"#bd3786\"],[0.5555555555555556,\"#d8576b\"],[0.6666666666666666,\"#ed7953\"],[0.7777777777777778,\"#fb9f3a\"],[0.8888888888888888,\"#fdca26\"],[1.0,\"#f0f921\"]]}],\"heatmap\":[{\"type\":\"heatmap\",\"colorbar\":{\"outlinewidth\":0,\"ticks\":\"\"},\"colorscale\":[[0.0,\"#0d0887\"],[0.1111111111111111,\"#46039f\"],[0.2222222222222222,\"#7201a8\"],[0.3333333333333333,\"#9c179e\"],[0.4444444444444444,\"#bd3786\"],[0.5555555555555556,\"#d8576b\"],[0.6666666666666666,\"#ed7953\"],[0.7777777777777778,\"#fb9f3a\"],[0.8888888888888888,\"#fdca26\"],[1.0,\"#f0f921\"]]}],\"heatmapgl\":[{\"type\":\"heatmapgl\",\"colorbar\":{\"outlinewidth\":0,\"ticks\":\"\"},\"colorscale\":[[0.0,\"#0d0887\"],[0.1111111111111111,\"#46039f\"],[0.2222222222222222,\"#7201a8\"],[0.3333333333333333,\"#9c179e\"],[0.4444444444444444,\"#bd3786\"],[0.5555555555555556,\"#d8576b\"],[0.6666666666666666,\"#ed7953\"],[0.7777777777777778,\"#fb9f3a\"],[0.8888888888888888,\"#fdca26\"],[1.0,\"#f0f921\"]]}],\"contourcarpet\":[{\"type\":\"contourcarpet\",\"colorbar\":{\"outlinewidth\":0,\"ticks\":\"\"}}],\"contour\":[{\"type\":\"contour\",\"colorbar\":{\"outlinewidth\":0,\"ticks\":\"\"},\"colorscale\":[[0.0,\"#0d0887\"],[0.1111111111111111,\"#46039f\"],[0.2222222222222222,\"#7201a8\"],[0.3333333333333333,\"#9c179e\"],[0.4444444444444444,\"#bd3786\"],[0.5555555555555556,\"#d8576b\"],[0.6666666666666666,\"#ed7953\"],[0.7777777777777778,\"#fb9f3a\"],[0.8888888888888888,\"#fdca26\"],[1.0,\"#f0f921\"]]}],\"surface\":[{\"type\":\"surface\",\"colorbar\":{\"outlinewidth\":0,\"ticks\":\"\"},\"colorscale\":[[0.0,\"#0d0887\"],[0.1111111111111111,\"#46039f\"],[0.2222222222222222,\"#7201a8\"],[0.3333333333333333,\"#9c179e\"],[0.4444444444444444,\"#bd3786\"],[0.5555555555555556,\"#d8576b\"],[0.6666666666666666,\"#ed7953\"],[0.7777777777777778,\"#fb9f3a\"],[0.8888888888888888,\"#fdca26\"],[1.0,\"#f0f921\"]]}],\"mesh3d\":[{\"type\":\"mesh3d\",\"colorbar\":{\"outlinewidth\":0,\"ticks\":\"\"}}],\"scatter\":[{\"fillpattern\":{\"fillmode\":\"overlay\",\"size\":10,\"solidity\":0.2},\"type\":\"scatter\"}],\"parcoords\":[{\"type\":\"parcoords\",\"line\":{\"colorbar\":{\"outlinewidth\":0,\"ticks\":\"\"}}}],\"scatterpolargl\":[{\"type\":\"scatterpolargl\",\"marker\":{\"colorbar\":{\"outlinewidth\":0,\"ticks\":\"\"}}}],\"bar\":[{\"error_x\":{\"color\":\"#2a3f5f\"},\"error_y\":{\"color\":\"#2a3f5f\"},\"marker\":{\"line\":{\"color\":\"#E5ECF6\",\"width\":0.5},\"pattern\":{\"fillmode\":\"overlay\",\"size\":10,\"solidity\":0.2}},\"type\":\"bar\"}],\"scattergeo\":[{\"type\":\"scattergeo\",\"marker\":{\"colorbar\":{\"outlinewidth\":0,\"ticks\":\"\"}}}],\"scatterpolar\":[{\"type\":\"scatterpolar\",\"marker\":{\"colorbar\":{\"outlinewidth\":0,\"ticks\":\"\"}}}],\"histogram\":[{\"marker\":{\"pattern\":{\"fillmode\":\"overlay\",\"size\":10,\"solidity\":0.2}},\"type\":\"histogram\"}],\"scattergl\":[{\"type\":\"scattergl\",\"marker\":{\"colorbar\":{\"outlinewidth\":0,\"ticks\":\"\"}}}],\"scatter3d\":[{\"type\":\"scatter3d\",\"line\":{\"colorbar\":{\"outlinewidth\":0,\"ticks\":\"\"}},\"marker\":{\"colorbar\":{\"outlinewidth\":0,\"ticks\":\"\"}}}],\"scattermapbox\":[{\"type\":\"scattermapbox\",\"marker\":{\"colorbar\":{\"outlinewidth\":0,\"ticks\":\"\"}}}],\"scatterternary\":[{\"type\":\"scatterternary\",\"marker\":{\"colorbar\":{\"outlinewidth\":0,\"ticks\":\"\"}}}],\"scattercarpet\":[{\"type\":\"scattercarpet\",\"marker\":{\"colorbar\":{\"outlinewidth\":0,\"ticks\":\"\"}}}],\"carpet\":[{\"aaxis\":{\"endlinecolor\":\"#2a3f5f\",\"gridcolor\":\"white\",\"linecolor\":\"white\",\"minorgridcolor\":\"white\",\"startlinecolor\":\"#2a3f5f\"},\"baxis\":{\"endlinecolor\":\"#2a3f5f\",\"gridcolor\":\"white\",\"linecolor\":\"white\",\"minorgridcolor\":\"white\",\"startlinecolor\":\"#2a3f5f\"},\"type\":\"carpet\"}],\"table\":[{\"cells\":{\"fill\":{\"color\":\"#EBF0F8\"},\"line\":{\"color\":\"white\"}},\"header\":{\"fill\":{\"color\":\"#C8D4E3\"},\"line\":{\"color\":\"white\"}},\"type\":\"table\"}],\"barpolar\":[{\"marker\":{\"line\":{\"color\":\"#E5ECF6\",\"width\":0.5},\"pattern\":{\"fillmode\":\"overlay\",\"size\":10,\"solidity\":0.2}},\"type\":\"barpolar\"}],\"pie\":[{\"automargin\":true,\"type\":\"pie\"}]},\"layout\":{\"autotypenumbers\":\"strict\",\"colorway\":[\"#636efa\",\"#EF553B\",\"#00cc96\",\"#ab63fa\",\"#FFA15A\",\"#19d3f3\",\"#FF6692\",\"#B6E880\",\"#FF97FF\",\"#FECB52\"],\"font\":{\"color\":\"#2a3f5f\"},\"hovermode\":\"closest\",\"hoverlabel\":{\"align\":\"left\"},\"paper_bgcolor\":\"white\",\"plot_bgcolor\":\"#E5ECF6\",\"polar\":{\"bgcolor\":\"#E5ECF6\",\"angularaxis\":{\"gridcolor\":\"white\",\"linecolor\":\"white\",\"ticks\":\"\"},\"radialaxis\":{\"gridcolor\":\"white\",\"linecolor\":\"white\",\"ticks\":\"\"}},\"ternary\":{\"bgcolor\":\"#E5ECF6\",\"aaxis\":{\"gridcolor\":\"white\",\"linecolor\":\"white\",\"ticks\":\"\"},\"baxis\":{\"gridcolor\":\"white\",\"linecolor\":\"white\",\"ticks\":\"\"},\"caxis\":{\"gridcolor\":\"white\",\"linecolor\":\"white\",\"ticks\":\"\"}},\"coloraxis\":{\"colorbar\":{\"outlinewidth\":0,\"ticks\":\"\"}},\"colorscale\":{\"sequential\":[[0.0,\"#0d0887\"],[0.1111111111111111,\"#46039f\"],[0.2222222222222222,\"#7201a8\"],[0.3333333333333333,\"#9c179e\"],[0.4444444444444444,\"#bd3786\"],[0.5555555555555556,\"#d8576b\"],[0.6666666666666666,\"#ed7953\"],[0.7777777777777778,\"#fb9f3a\"],[0.8888888888888888,\"#fdca26\"],[1.0,\"#f0f921\"]],\"sequentialminus\":[[0.0,\"#0d0887\"],[0.1111111111111111,\"#46039f\"],[0.2222222222222222,\"#7201a8\"],[0.3333333333333333,\"#9c179e\"],[0.4444444444444444,\"#bd3786\"],[0.5555555555555556,\"#d8576b\"],[0.6666666666666666,\"#ed7953\"],[0.7777777777777778,\"#fb9f3a\"],[0.8888888888888888,\"#fdca26\"],[1.0,\"#f0f921\"]],\"diverging\":[[0,\"#8e0152\"],[0.1,\"#c51b7d\"],[0.2,\"#de77ae\"],[0.3,\"#f1b6da\"],[0.4,\"#fde0ef\"],[0.5,\"#f7f7f7\"],[0.6,\"#e6f5d0\"],[0.7,\"#b8e186\"],[0.8,\"#7fbc41\"],[0.9,\"#4d9221\"],[1,\"#276419\"]]},\"xaxis\":{\"gridcolor\":\"white\",\"linecolor\":\"white\",\"ticks\":\"\",\"title\":{\"standoff\":15},\"zerolinecolor\":\"white\",\"automargin\":true,\"zerolinewidth\":2},\"yaxis\":{\"gridcolor\":\"white\",\"linecolor\":\"white\",\"ticks\":\"\",\"title\":{\"standoff\":15},\"zerolinecolor\":\"white\",\"automargin\":true,\"zerolinewidth\":2},\"scene\":{\"xaxis\":{\"backgroundcolor\":\"#E5ECF6\",\"gridcolor\":\"white\",\"linecolor\":\"white\",\"showbackground\":true,\"ticks\":\"\",\"zerolinecolor\":\"white\",\"gridwidth\":2},\"yaxis\":{\"backgroundcolor\":\"#E5ECF6\",\"gridcolor\":\"white\",\"linecolor\":\"white\",\"showbackground\":true,\"ticks\":\"\",\"zerolinecolor\":\"white\",\"gridwidth\":2},\"zaxis\":{\"backgroundcolor\":\"#E5ECF6\",\"gridcolor\":\"white\",\"linecolor\":\"white\",\"showbackground\":true,\"ticks\":\"\",\"zerolinecolor\":\"white\",\"gridwidth\":2}},\"shapedefaults\":{\"line\":{\"color\":\"#2a3f5f\"}},\"annotationdefaults\":{\"arrowcolor\":\"#2a3f5f\",\"arrowhead\":0,\"arrowwidth\":1},\"geo\":{\"bgcolor\":\"white\",\"landcolor\":\"#E5ECF6\",\"subunitcolor\":\"white\",\"showland\":true,\"showlakes\":true,\"lakecolor\":\"white\"},\"title\":{\"x\":0.05},\"mapbox\":{\"style\":\"light\"}}},\"xaxis\":{\"anchor\":\"y\",\"domain\":[0.0,1.0],\"title\":{\"text\":\"Words\"},\"showgrid\":false},\"yaxis\":{\"anchor\":\"x\",\"domain\":[0.0,1.0],\"title\":{\"text\":\"Value\"},\"showgrid\":false},\"coloraxis\":{\"colorbar\":{\"title\":{\"text\":\"color\"}},\"colorscale\":[[0.0,\"#0d0887\"],[0.1111111111111111,\"#46039f\"],[0.2222222222222222,\"#7201a8\"],[0.3333333333333333,\"#9c179e\"],[0.4444444444444444,\"#bd3786\"],[0.5555555555555556,\"#d8576b\"],[0.6666666666666666,\"#ed7953\"],[0.7777777777777778,\"#fb9f3a\"],[0.8888888888888888,\"#fdca26\"],[1.0,\"#f0f921\"]]},\"legend\":{\"tracegroupgap\":0},\"margin\":{\"t\":60},\"barmode\":\"relative\",\"title\":{\"font\":{\"size\":30},\"text\":\"Word Values\",\"x\":0.5},\"plot_bgcolor\":\"white\"},                        {\"responsive\": true}                    ).then(function(){\n",
       "                            \n",
       "var gd = document.getElementById('79a59282-7b1e-40be-bfd4-93509a2b797d');\n",
       "var x = new MutationObserver(function (mutations, observer) {{\n",
       "        var display = window.getComputedStyle(gd).display;\n",
       "        if (!display || display === 'none') {{\n",
       "            console.log([gd, 'removed!']);\n",
       "            Plotly.purge(gd);\n",
       "            observer.disconnect();\n",
       "        }}\n",
       "}});\n",
       "\n",
       "// Listen for the removal of the full notebook cells\n",
       "var notebookContainer = gd.closest('#notebook-container');\n",
       "if (notebookContainer) {{\n",
       "    x.observe(notebookContainer, {childList: true});\n",
       "}}\n",
       "\n",
       "// Listen for the clearing of the current output cell\n",
       "var outputEl = gd.closest('.output');\n",
       "if (outputEl) {{\n",
       "    x.observe(outputEl, {childList: true});\n",
       "}}\n",
       "\n",
       "                        })                };                });            </script>        </div>"
      ]
     },
     "metadata": {},
     "output_type": "display_data"
    }
   ],
   "source": [
    "fig2 = px.bar(x=list1,y=list2,color=list2,hover_name=list1,hover_data={'Word':list1,\"Count\":list2})\n",
    "fig2.update_traces(hovertemplate=\"Word:'%{x}' Value: %{y}\")\n",
    "fig2.update_layout(title={\"text\":\"Word Values\",\"x\":0.5,\"font\":{\"size\":30}},xaxis={\"title\":\"Words\",\"showgrid\":False},yaxis={\"title\":\"Value\",\"showgrid\":False},plot_bgcolor=\"white\")\n",
    "fig2.show()"
   ]
  },
  {
   "cell_type": "code",
   "execution_count": 23,
   "id": "2fd398f2",
   "metadata": {},
   "outputs": [
    {
     "data": {
      "text/plain": [
       "Text(0, 0.5, 'Frequency')"
      ]
     },
     "execution_count": 23,
     "metadata": {},
     "output_type": "execute_result"
    },
    {
     "data": {
      "image/png": "[encoded data removed]",
      "text/plain": [
       "<Figure size 1000x600 with 1 Axes>"
      ]
     },
     "metadata": {},
     "output_type": "display_data"
    }
   ],
   "source": [
    "import collections\n",
    "words = []\n",
    "for text in data['text']:\n",
    "    words.extend(text.split())\n",
    "word_count = collections.Counter(words)\n",
    "top_words = dict(word_count.most_common(20))\n",
    "\n",
    "# Figure Size\n",
    "plt.figure(figsize = (10, 6))\n",
    "\n",
    "# Create the Barplot\n",
    "plt.bar(range(len(top_words)), list(top_words.values()), align = 'center')\n",
    "\n",
    "# Creating a y axis with words\n",
    "plt.xticks(range(len(top_words)), list(top_words.keys()))\n",
    "\n",
    "# Grid Opacity\n",
    "plt.grid(alpha = 0.5)\n",
    "\n",
    "# Title\n",
    "plt.title('Top 10 most used words', fontsize = 18)\n",
    "\n",
    "# Labels\n",
    "plt.xlabel('Words')\n",
    "plt.ylabel('Frequency')"
   ]
  },
  {
   "cell_type": "code",
   "execution_count": 24,
   "id": "44bcc48f",
   "metadata": {},
   "outputs": [
    {
     "data": {
      "text/html": [
       "<div>\n",
       "<style scoped>\n",
       "    .dataframe tbody tr th:only-of-type {\n",
       "        vertical-align: middle;\n",
       "    }\n",
       "\n",
       "    .dataframe tbody tr th {\n",
       "        vertical-align: top;\n",
       "    }\n",
       "\n",
       "    .dataframe thead th {\n",
       "        text-align: right;\n",
       "    }\n",
       "</style>\n",
       "<table border=\"1\" class=\"dataframe\">\n",
       "  <thead>\n",
       "    <tr style=\"text-align: right;\">\n",
       "      <th></th>\n",
       "      <th>Unnamed: 0</th>\n",
       "      <th>ï»¿</th>\n",
       "      <th>uuid</th>\n",
       "      <th>createdAt</th>\n",
       "      <th>updatedAt</th>\n",
       "      <th>text</th>\n",
       "      <th>isAnonymous</th>\n",
       "      <th>reviewerName</th>\n",
       "      <th>reviewerId</th>\n",
       "      <th>ratings_overall</th>\n",
       "      <th>...</th>\n",
       "      <th>longitude</th>\n",
       "      <th>primary_cuisine</th>\n",
       "      <th>primary_cuisine_id</th>\n",
       "      <th>cuisines</th>\n",
       "      <th>review_number</th>\n",
       "      <th>restaurant_overall_rating</th>\n",
       "      <th>hero_image</th>\n",
       "      <th>hero_listing_image</th>\n",
       "      <th>vertical_type_ids</th>\n",
       "      <th>web_path</th>\n",
       "    </tr>\n",
       "  </thead>\n",
       "  <tbody>\n",
       "    <tr>\n",
       "      <th>0</th>\n",
       "      <td>0</td>\n",
       "      <td>0</td>\n",
       "      <td>68e8f769-a0f0-460c-bfb9-16662fcc1e17</td>\n",
       "      <td>2023-11-02T06:48:08Z</td>\n",
       "      <td>2023-11-02T06:48:08Z</td>\n",
       "      <td>too much small amount</td>\n",
       "      <td>False</td>\n",
       "      <td>MOON</td>\n",
       "      <td>bdaclwhn</td>\n",
       "      <td>2</td>\n",
       "      <td>...</td>\n",
       "      <td>90.391680</td>\n",
       "      <td>Curry</td>\n",
       "      <td>195</td>\n",
       "      <td>['Curry', 'Rice Dishes', 'Bangladeshi', 'Asian']</td>\n",
       "      <td>146</td>\n",
       "      <td>3.7</td>\n",
       "      <td>https://images.deliveryhero.io/image/fd-bd/LH/...</td>\n",
       "      <td>https://images.deliveryhero.io/image/fd-bd/LH/...</td>\n",
       "      <td>['restaurants', 'home_based_kitchen']</td>\n",
       "      <td>https://foodpanda.com.bd/restaurant/a02g/mahis...</td>\n",
       "    </tr>\n",
       "    <tr>\n",
       "      <th>1</th>\n",
       "      <td>1</td>\n",
       "      <td>1</td>\n",
       "      <td>706a1e43-7475-4d7f-8488-cb8ed2ea8991</td>\n",
       "      <td>2023-10-27T07:35:53Z</td>\n",
       "      <td>2023-10-27T07:35:53Z</td>\n",
       "      <td>very small in amount</td>\n",
       "      <td>False</td>\n",
       "      <td>MOON</td>\n",
       "      <td>bdaclwhn</td>\n",
       "      <td>2</td>\n",
       "      <td>...</td>\n",
       "      <td>90.391680</td>\n",
       "      <td>Curry</td>\n",
       "      <td>195</td>\n",
       "      <td>['Curry', 'Rice Dishes', 'Bangladeshi', 'Asian']</td>\n",
       "      <td>146</td>\n",
       "      <td>3.7</td>\n",
       "      <td>https://images.deliveryhero.io/image/fd-bd/LH/...</td>\n",
       "      <td>https://images.deliveryhero.io/image/fd-bd/LH/...</td>\n",
       "      <td>['restaurants', 'home_based_kitchen']</td>\n",
       "      <td>https://foodpanda.com.bd/restaurant/a02g/mahis...</td>\n",
       "    </tr>\n",
       "    <tr>\n",
       "      <th>2</th>\n",
       "      <td>2</td>\n",
       "      <td>2</td>\n",
       "      <td>16cd99a3-7295-432e-b193-1551df62d255</td>\n",
       "      <td>2023-10-25T18:09:17Z</td>\n",
       "      <td>2023-10-25T18:09:17Z</td>\n",
       "      <td>food average but their desert booter halwa and...</td>\n",
       "      <td>False</td>\n",
       "      <td>SALMAN</td>\n",
       "      <td>bdjrt0zq</td>\n",
       "      <td>3</td>\n",
       "      <td>...</td>\n",
       "      <td>90.391680</td>\n",
       "      <td>Curry</td>\n",
       "      <td>195</td>\n",
       "      <td>['Curry', 'Rice Dishes', 'Bangladeshi', 'Asian']</td>\n",
       "      <td>146</td>\n",
       "      <td>3.7</td>\n",
       "      <td>https://images.deliveryhero.io/image/fd-bd/LH/...</td>\n",
       "      <td>https://images.deliveryhero.io/image/fd-bd/LH/...</td>\n",
       "      <td>['restaurants', 'home_based_kitchen']</td>\n",
       "      <td>https://foodpanda.com.bd/restaurant/a02g/mahis...</td>\n",
       "    </tr>\n",
       "    <tr>\n",
       "      <th>3</th>\n",
       "      <td>3</td>\n",
       "      <td>3</td>\n",
       "      <td>61a9fdf3-ad6b-4d23-9436-1f2f596bbcff</td>\n",
       "      <td>2023-10-25T07:48:39Z</td>\n",
       "      <td>2023-10-25T07:48:39Z</td>\n",
       "      <td>fresh and tasty</td>\n",
       "      <td>False</td>\n",
       "      <td>GOLAM</td>\n",
       "      <td>b6hrp8of</td>\n",
       "      <td>5</td>\n",
       "      <td>...</td>\n",
       "      <td>90.391680</td>\n",
       "      <td>Curry</td>\n",
       "      <td>195</td>\n",
       "      <td>['Curry', 'Rice Dishes', 'Bangladeshi', 'Asian']</td>\n",
       "      <td>146</td>\n",
       "      <td>3.7</td>\n",
       "      <td>https://images.deliveryhero.io/image/fd-bd/LH/...</td>\n",
       "      <td>https://images.deliveryhero.io/image/fd-bd/LH/...</td>\n",
       "      <td>['restaurants', 'home_based_kitchen']</td>\n",
       "      <td>https://foodpanda.com.bd/restaurant/a02g/mahis...</td>\n",
       "    </tr>\n",
       "    <tr>\n",
       "      <th>4</th>\n",
       "      <td>4</td>\n",
       "      <td>4</td>\n",
       "      <td>a7835cdf-2c1f-4cf0-b9d5-2777d904d746</td>\n",
       "      <td>2023-10-15T13:37:20Z</td>\n",
       "      <td>2023-10-15T13:37:20Z</td>\n",
       "      <td>everything i ordered was good</td>\n",
       "      <td>False</td>\n",
       "      <td>FERZANA</td>\n",
       "      <td>bddrkjrd</td>\n",
       "      <td>4</td>\n",
       "      <td>...</td>\n",
       "      <td>90.391680</td>\n",
       "      <td>Curry</td>\n",
       "      <td>195</td>\n",
       "      <td>['Curry', 'Rice Dishes', 'Bangladeshi', 'Asian']</td>\n",
       "      <td>146</td>\n",
       "      <td>3.7</td>\n",
       "      <td>https://images.deliveryhero.io/image/fd-bd/LH/...</td>\n",
       "      <td>https://images.deliveryhero.io/image/fd-bd/LH/...</td>\n",
       "      <td>['restaurants', 'home_based_kitchen']</td>\n",
       "      <td>https://foodpanda.com.bd/restaurant/a02g/mahis...</td>\n",
       "    </tr>\n",
       "    <tr>\n",
       "      <th>...</th>\n",
       "      <td>...</td>\n",
       "      <td>...</td>\n",
       "      <td>...</td>\n",
       "      <td>...</td>\n",
       "      <td>...</td>\n",
       "      <td>...</td>\n",
       "      <td>...</td>\n",
       "      <td>...</td>\n",
       "      <td>...</td>\n",
       "      <td>...</td>\n",
       "      <td>...</td>\n",
       "      <td>...</td>\n",
       "      <td>...</td>\n",
       "      <td>...</td>\n",
       "      <td>...</td>\n",
       "      <td>...</td>\n",
       "      <td>...</td>\n",
       "      <td>...</td>\n",
       "      <td>...</td>\n",
       "      <td>...</td>\n",
       "      <td>...</td>\n",
       "    </tr>\n",
       "    <tr>\n",
       "      <th>334114</th>\n",
       "      <td>334114</td>\n",
       "      <td>335943</td>\n",
       "      <td>134b7bdd-75fa-45bb-8804-95d921430a6e</td>\n",
       "      <td>2023-01-05T07:08:08Z</td>\n",
       "      <td>2023-01-05T07:08:08Z</td>\n",
       "      <td>food was good as usual but the behavior of the...</td>\n",
       "      <td>False</td>\n",
       "      <td>SOUDAMINEE</td>\n",
       "      <td>bd9ozccz</td>\n",
       "      <td>3</td>\n",
       "      <td>...</td>\n",
       "      <td>90.386578</td>\n",
       "      <td>Italian</td>\n",
       "      <td>86</td>\n",
       "      <td>['Italian', 'Beverage', 'Mediterranean', 'Pizz...</td>\n",
       "      <td>101</td>\n",
       "      <td>2.9</td>\n",
       "      <td>https://images.deliveryhero.io/image/fd-bd/LH/...</td>\n",
       "      <td>https://images.deliveryhero.io/image/fd-bd/LH/...</td>\n",
       "      <td>['restaurants']</td>\n",
       "      <td>https://foodpanda.com.bd/restaurant/zyx2/janna...</td>\n",
       "    </tr>\n",
       "    <tr>\n",
       "      <th>334115</th>\n",
       "      <td>334115</td>\n",
       "      <td>335944</td>\n",
       "      <td>81869547-e7a9-4c39-a092-1cddd4f5afd7</td>\n",
       "      <td>2022-12-23T14:20:56Z</td>\n",
       "      <td>2022-12-23T14:20:56Z</td>\n",
       "      <td>the worst</td>\n",
       "      <td>False</td>\n",
       "      <td>TASNIM</td>\n",
       "      <td>bdmmx1ub</td>\n",
       "      <td>1</td>\n",
       "      <td>...</td>\n",
       "      <td>90.386578</td>\n",
       "      <td>Italian</td>\n",
       "      <td>86</td>\n",
       "      <td>['Italian', 'Beverage', 'Mediterranean', 'Pizz...</td>\n",
       "      <td>101</td>\n",
       "      <td>2.9</td>\n",
       "      <td>https://images.deliveryhero.io/image/fd-bd/LH/...</td>\n",
       "      <td>https://images.deliveryhero.io/image/fd-bd/LH/...</td>\n",
       "      <td>['restaurants']</td>\n",
       "      <td>https://foodpanda.com.bd/restaurant/zyx2/janna...</td>\n",
       "    </tr>\n",
       "    <tr>\n",
       "      <th>334116</th>\n",
       "      <td>334116</td>\n",
       "      <td>335945</td>\n",
       "      <td>0a825486-fcd1-4b0a-9120-9e13bf66f5ba</td>\n",
       "      <td>2022-12-22T06:20:54Z</td>\n",
       "      <td>2022-12-22T06:20:54Z</td>\n",
       "      <td>very nice</td>\n",
       "      <td>False</td>\n",
       "      <td>AKLIMA</td>\n",
       "      <td>bd7uzuk7</td>\n",
       "      <td>5</td>\n",
       "      <td>...</td>\n",
       "      <td>90.386578</td>\n",
       "      <td>Italian</td>\n",
       "      <td>86</td>\n",
       "      <td>['Italian', 'Beverage', 'Mediterranean', 'Pizz...</td>\n",
       "      <td>101</td>\n",
       "      <td>2.9</td>\n",
       "      <td>https://images.deliveryhero.io/image/fd-bd/LH/...</td>\n",
       "      <td>https://images.deliveryhero.io/image/fd-bd/LH/...</td>\n",
       "      <td>['restaurants']</td>\n",
       "      <td>https://foodpanda.com.bd/restaurant/zyx2/janna...</td>\n",
       "    </tr>\n",
       "    <tr>\n",
       "      <th>334117</th>\n",
       "      <td>334117</td>\n",
       "      <td>335946</td>\n",
       "      <td>391514ca-fafa-4159-b92c-83022d714338</td>\n",
       "      <td>2022-12-13T14:48:51Z</td>\n",
       "      <td>2022-12-13T14:48:51Z</td>\n",
       "      <td>good</td>\n",
       "      <td>False</td>\n",
       "      <td>SOUDAMINEE</td>\n",
       "      <td>bd9ozccz</td>\n",
       "      <td>4</td>\n",
       "      <td>...</td>\n",
       "      <td>90.386578</td>\n",
       "      <td>Italian</td>\n",
       "      <td>86</td>\n",
       "      <td>['Italian', 'Beverage', 'Mediterranean', 'Pizz...</td>\n",
       "      <td>101</td>\n",
       "      <td>2.9</td>\n",
       "      <td>https://images.deliveryhero.io/image/fd-bd/LH/...</td>\n",
       "      <td>https://images.deliveryhero.io/image/fd-bd/LH/...</td>\n",
       "      <td>['restaurants']</td>\n",
       "      <td>https://foodpanda.com.bd/restaurant/zyx2/janna...</td>\n",
       "    </tr>\n",
       "    <tr>\n",
       "      <th>334118</th>\n",
       "      <td>334118</td>\n",
       "      <td>335947</td>\n",
       "      <td>32d17f70-a933-4978-9d84-8b468d692fcc</td>\n",
       "      <td>2022-11-22T14:34:36Z</td>\n",
       "      <td>2022-11-22T14:34:36Z</td>\n",
       "      <td>fcking scammers dont order from here bun er up...</td>\n",
       "      <td>False</td>\n",
       "      <td>SHOURAN</td>\n",
       "      <td>bd1todf0</td>\n",
       "      <td>1</td>\n",
       "      <td>...</td>\n",
       "      <td>90.386578</td>\n",
       "      <td>Italian</td>\n",
       "      <td>86</td>\n",
       "      <td>['Italian', 'Beverage', 'Mediterranean', 'Pizz...</td>\n",
       "      <td>101</td>\n",
       "      <td>2.9</td>\n",
       "      <td>https://images.deliveryhero.io/image/fd-bd/LH/...</td>\n",
       "      <td>https://images.deliveryhero.io/image/fd-bd/LH/...</td>\n",
       "      <td>['restaurants']</td>\n",
       "      <td>https://foodpanda.com.bd/restaurant/zyx2/janna...</td>\n",
       "    </tr>\n",
       "  </tbody>\n",
       "</table>\n",
       "<p>334119 rows × 31 columns</p>\n",
       "</div>"
      ],
      "text/plain": [
       "        Unnamed: 0     ï»¿                                  uuid  \\\n",
       "0                0       0  68e8f769-a0f0-460c-bfb9-16662fcc1e17   \n",
       "1                1       1  706a1e43-7475-4d7f-8488-cb8ed2ea8991   \n",
       "2                2       2  16cd99a3-7295-432e-b193-1551df62d255   \n",
       "3                3       3  61a9fdf3-ad6b-4d23-9436-1f2f596bbcff   \n",
       "4                4       4  a7835cdf-2c1f-4cf0-b9d5-2777d904d746   \n",
       "...            ...     ...                                   ...   \n",
       "334114      334114  335943  134b7bdd-75fa-45bb-8804-95d921430a6e   \n",
       "334115      334115  335944  81869547-e7a9-4c39-a092-1cddd4f5afd7   \n",
       "334116      334116  335945  0a825486-fcd1-4b0a-9120-9e13bf66f5ba   \n",
       "334117      334117  335946  391514ca-fafa-4159-b92c-83022d714338   \n",
       "334118      334118  335947  32d17f70-a933-4978-9d84-8b468d692fcc   \n",
       "\n",
       "                   createdAt             updatedAt  \\\n",
       "0       2023-11-02T06:48:08Z  2023-11-02T06:48:08Z   \n",
       "1       2023-10-27T07:35:53Z  2023-10-27T07:35:53Z   \n",
       "2       2023-10-25T18:09:17Z  2023-10-25T18:09:17Z   \n",
       "3       2023-10-25T07:48:39Z  2023-10-25T07:48:39Z   \n",
       "4       2023-10-15T13:37:20Z  2023-10-15T13:37:20Z   \n",
       "...                      ...                   ...   \n",
       "334114  2023-01-05T07:08:08Z  2023-01-05T07:08:08Z   \n",
       "334115  2022-12-23T14:20:56Z  2022-12-23T14:20:56Z   \n",
       "334116  2022-12-22T06:20:54Z  2022-12-22T06:20:54Z   \n",
       "334117  2022-12-13T14:48:51Z  2022-12-13T14:48:51Z   \n",
       "334118  2022-11-22T14:34:36Z  2022-11-22T14:34:36Z   \n",
       "\n",
       "                                                     text  isAnonymous  \\\n",
       "0                                   too much small amount        False   \n",
       "1                                    very small in amount        False   \n",
       "2       food average but their desert booter halwa and...        False   \n",
       "3                                         fresh and tasty        False   \n",
       "4                           everything i ordered was good        False   \n",
       "...                                                   ...          ...   \n",
       "334114  food was good as usual but the behavior of the...        False   \n",
       "334115                                          the worst        False   \n",
       "334116                                          very nice        False   \n",
       "334117                                               good        False   \n",
       "334118  fcking scammers dont order from here bun er up...        False   \n",
       "\n",
       "       reviewerName reviewerId  ratings_overall  ...  longitude  \\\n",
       "0              MOON   bdaclwhn                2  ...  90.391680   \n",
       "1              MOON   bdaclwhn                2  ...  90.391680   \n",
       "2            SALMAN   bdjrt0zq                3  ...  90.391680   \n",
       "3             GOLAM   b6hrp8of                5  ...  90.391680   \n",
       "4           FERZANA   bddrkjrd                4  ...  90.391680   \n",
       "...             ...        ...              ...  ...        ...   \n",
       "334114   SOUDAMINEE   bd9ozccz                3  ...  90.386578   \n",
       "334115       TASNIM   bdmmx1ub                1  ...  90.386578   \n",
       "334116       AKLIMA   bd7uzuk7                5  ...  90.386578   \n",
       "334117   SOUDAMINEE   bd9ozccz                4  ...  90.386578   \n",
       "334118      SHOURAN   bd1todf0                1  ...  90.386578   \n",
       "\n",
       "       primary_cuisine primary_cuisine_id  \\\n",
       "0                Curry                195   \n",
       "1                Curry                195   \n",
       "2                Curry                195   \n",
       "3                Curry                195   \n",
       "4                Curry                195   \n",
       "...                ...                ...   \n",
       "334114         Italian                 86   \n",
       "334115         Italian                 86   \n",
       "334116         Italian                 86   \n",
       "334117         Italian                 86   \n",
       "334118         Italian                 86   \n",
       "\n",
       "                                                 cuisines  review_number  \\\n",
       "0        ['Curry', 'Rice Dishes', 'Bangladeshi', 'Asian']            146   \n",
       "1        ['Curry', 'Rice Dishes', 'Bangladeshi', 'Asian']            146   \n",
       "2        ['Curry', 'Rice Dishes', 'Bangladeshi', 'Asian']            146   \n",
       "3        ['Curry', 'Rice Dishes', 'Bangladeshi', 'Asian']            146   \n",
       "4        ['Curry', 'Rice Dishes', 'Bangladeshi', 'Asian']            146   \n",
       "...                                                   ...            ...   \n",
       "334114  ['Italian', 'Beverage', 'Mediterranean', 'Pizz...            101   \n",
       "334115  ['Italian', 'Beverage', 'Mediterranean', 'Pizz...            101   \n",
       "334116  ['Italian', 'Beverage', 'Mediterranean', 'Pizz...            101   \n",
       "334117  ['Italian', 'Beverage', 'Mediterranean', 'Pizz...            101   \n",
       "334118  ['Italian', 'Beverage', 'Mediterranean', 'Pizz...            101   \n",
       "\n",
       "       restaurant_overall_rating  \\\n",
       "0                            3.7   \n",
       "1                            3.7   \n",
       "2                            3.7   \n",
       "3                            3.7   \n",
       "4                            3.7   \n",
       "...                          ...   \n",
       "334114                       2.9   \n",
       "334115                       2.9   \n",
       "334116                       2.9   \n",
       "334117                       2.9   \n",
       "334118                       2.9   \n",
       "\n",
       "                                               hero_image  \\\n",
       "0       https://images.deliveryhero.io/image/fd-bd/LH/...   \n",
       "1       https://images.deliveryhero.io/image/fd-bd/LH/...   \n",
       "2       https://images.deliveryhero.io/image/fd-bd/LH/...   \n",
       "3       https://images.deliveryhero.io/image/fd-bd/LH/...   \n",
       "4       https://images.deliveryhero.io/image/fd-bd/LH/...   \n",
       "...                                                   ...   \n",
       "334114  https://images.deliveryhero.io/image/fd-bd/LH/...   \n",
       "334115  https://images.deliveryhero.io/image/fd-bd/LH/...   \n",
       "334116  https://images.deliveryhero.io/image/fd-bd/LH/...   \n",
       "334117  https://images.deliveryhero.io/image/fd-bd/LH/...   \n",
       "334118  https://images.deliveryhero.io/image/fd-bd/LH/...   \n",
       "\n",
       "                                       hero_listing_image  \\\n",
       "0       https://images.deliveryhero.io/image/fd-bd/LH/...   \n",
       "1       https://images.deliveryhero.io/image/fd-bd/LH/...   \n",
       "2       https://images.deliveryhero.io/image/fd-bd/LH/...   \n",
       "3       https://images.deliveryhero.io/image/fd-bd/LH/...   \n",
       "4       https://images.deliveryhero.io/image/fd-bd/LH/...   \n",
       "...                                                   ...   \n",
       "334114  https://images.deliveryhero.io/image/fd-bd/LH/...   \n",
       "334115  https://images.deliveryhero.io/image/fd-bd/LH/...   \n",
       "334116  https://images.deliveryhero.io/image/fd-bd/LH/...   \n",
       "334117  https://images.deliveryhero.io/image/fd-bd/LH/...   \n",
       "334118  https://images.deliveryhero.io/image/fd-bd/LH/...   \n",
       "\n",
       "                            vertical_type_ids  \\\n",
       "0       ['restaurants', 'home_based_kitchen']   \n",
       "1       ['restaurants', 'home_based_kitchen']   \n",
       "2       ['restaurants', 'home_based_kitchen']   \n",
       "3       ['restaurants', 'home_based_kitchen']   \n",
       "4       ['restaurants', 'home_based_kitchen']   \n",
       "...                                       ...   \n",
       "334114                        ['restaurants']   \n",
       "334115                        ['restaurants']   \n",
       "334116                        ['restaurants']   \n",
       "334117                        ['restaurants']   \n",
       "334118                        ['restaurants']   \n",
       "\n",
       "                                                 web_path  \n",
       "0       https://foodpanda.com.bd/restaurant/a02g/mahis...  \n",
       "1       https://foodpanda.com.bd/restaurant/a02g/mahis...  \n",
       "2       https://foodpanda.com.bd/restaurant/a02g/mahis...  \n",
       "3       https://foodpanda.com.bd/restaurant/a02g/mahis...  \n",
       "4       https://foodpanda.com.bd/restaurant/a02g/mahis...  \n",
       "...                                                   ...  \n",
       "334114  https://foodpanda.com.bd/restaurant/zyx2/janna...  \n",
       "334115  https://foodpanda.com.bd/restaurant/zyx2/janna...  \n",
       "334116  https://foodpanda.com.bd/restaurant/zyx2/janna...  \n",
       "334117  https://foodpanda.com.bd/restaurant/zyx2/janna...  \n",
       "334118  https://foodpanda.com.bd/restaurant/zyx2/janna...  \n",
       "\n",
       "[334119 rows x 31 columns]"
      ]
     },
     "execution_count": 24,
     "metadata": {},
     "output_type": "execute_result"
    }
   ],
   "source": [
    "min_text_length = 3\n",
    "\n",
    "# Filter rows with text length greater than or equal to 3\n",
    "filtered_df = data[data['text'].apply(lambda x: len(x) >= min_text_length)]\n",
    "\n",
    "# Display the modified DataFrame\n",
    "filtered_df"
   ]
  },
  {
   "cell_type": "code",
   "execution_count": 31,
   "id": "216dbebb",
   "metadata": {},
   "outputs": [
    {
     "name": "stdout",
     "output_type": "stream",
     "text": [
      "Before\n",
      "food average but their desert booter halwa and pudding is very good\n",
      "After\n",
      "food average but their desert booter halwa and pudding is very good\n",
      "Time Passed\n"
     ]
    }
   ],
   "source": [
    "import nltk\n",
    "stemmer = nltk.SnowballStemmer(\"english\")\n",
    "from nltk.corpus import stopwords\n",
    "import string\n",
    "stopword=set(stopwords.words('english'))\n",
    "\n",
    "\n",
    "def leadMyWord(text):\n",
    "    text = text.lower()\n",
    "    \n",
    "    text = re.sub(r\"don't\", \"do not\", text)\n",
    "    text = re.sub(r\"don t\", \"do not\", text)\n",
    "    text = re.sub(r\"didn't\", \"did not\", text)\n",
    "    text = re.sub(r\"didn t\", \"did not\", text)\n",
    "    text = re.sub(r\"won't\", \"will not\", text)\n",
    "    text = re.sub(r\"won t\", \"will not\", text)\n",
    "    text = re.sub(r\"isn't\", \"is not\", text)\n",
    "    text = re.sub(r\"isn t\", \"is not\", text)\n",
    "    text = re.sub(r\"aren't\", \"are not\", text)\n",
    "    text = re.sub(r\"aren t\", \"are not\", text)\n",
    "    text = re.sub(r\"wasn't\", \"was not\", text)\n",
    "    text = re.sub(r\"wasn t\", \"was not\", text)\n",
    "    text = re.sub(r\"weren't\", \"were not\", text)\n",
    "    text = re.sub(r\"weren t\", \"were not\", text)\n",
    "    text = re.sub(r\"haven't\", \"have not\", text)\n",
    "    text = re.sub(r\"haven t\", \"have not\", text)\n",
    "    text = re.sub(r\"hadn't\", \"had not\", text)\n",
    "    text = re.sub(r\"hadn t\", \"had not\", text)\n",
    "    text = re.sub(r\"couldn't\", \"could not\", text)\n",
    "    text = re.sub(r\"couldn t\", \"could not\", text)\n",
    "    text = re.sub(r\"shouldn't\", \"should not\", text)\n",
    "    text = re.sub(r\"shouldn t\", \"should not\", text)\n",
    "    text = re.sub(r\"can't\", \"can not\", text)\n",
    "    text = re.sub(r\"can t\", \"can not\", text)\n",
    "    text = re.sub(r\"it's\", \"it is\", text)\n",
    "    text = re.sub(r\"it s\", \"it is\", text)\n",
    "    text = re.sub(r\"kebab\", \"kabab\", text)\n",
    "    text = re.sub(r\"nun\", \"naan\", text)\n",
    "    text = re.sub(r\"nan\", \"naan\", text)\n",
    "    text = re.sub('[^a-zA-Z]',\" \",text)\n",
    "    \n",
    "    text = re.sub('\\[.*?\\]', '', text)\n",
    "    text = re.sub('<.*?>+', '', text)\n",
    "    text = re.sub('[%s]' % re.escape(string.punctuation), '', text)\n",
    "    text = re.sub('\\n', '', text)\n",
    "    text= re.sub('\\s{2,}', ' ', text)\n",
    "    text = re.sub('\\w*\\d\\w*', '', text)\n",
    "#     print(text)\n",
    "    text = \"\".join(text)\n",
    "#     text = [word for word in text.split() if word not in stopword]\n",
    "# #     print(text,\"f2nd\")\n",
    "#     text = \" \".join(text)\n",
    "#     print(text,\"last\")\n",
    "    return text   \n",
    "textList = data.text.apply(leadMyWord)\n",
    "print(\"Before\")\n",
    "print(data[\"text\"][2])\n",
    "data['text'] = data.text.apply(leadMyWord)\n",
    "# data['clean_data']=textList\n",
    "textList = list(textList)\n",
    "\n",
    "print(\"After\")\n",
    "print(textList[2])\n",
    "print(\"Time Passed\")\n"
   ]
  },
  {
   "cell_type": "code",
   "execution_count": 30,
   "id": "d444e50c",
   "metadata": {},
   "outputs": [
    {
     "name": "stdout",
     "output_type": "stream",
     "text": [
      "Total unique words: 261451\n"
     ]
    }
   ],
   "source": [
    "unique_words = set(textList)\n",
    "\n",
    "# Count the number of unique words\n",
    "total_unique_words = len(unique_words)\n",
    "\n",
    "print(\"Total unique words:\", total_unique_words)"
   ]
  },
  {
   "cell_type": "code",
   "execution_count": 32,
   "id": "062563bd",
   "metadata": {},
   "outputs": [],
   "source": [
    "from tensorflow.keras.preprocessing.text import Tokenizer\n",
    "from tensorflow.keras.preprocessing.sequence import pad_sequences\n",
    "tokenizer = Tokenizer()\n",
    "tokenizer.fit_on_texts(textList)"
   ]
  },
  {
   "cell_type": "code",
   "execution_count": 33,
   "id": "9d0be252",
   "metadata": {},
   "outputs": [
    {
     "data": {
      "text/plain": [
       "{'too': 22028,\n",
       " 'much': 12485,\n",
       " 'small': 9052,\n",
       " 'amount': 8685,\n",
       " 'very': 49480,\n",
       " 'in': 29714,\n",
       " 'food': 72332,\n",
       " 'average': 6913,\n",
       " 'but': 50065,\n",
       " 'their': 9657,\n",
       " 'desert': 55,\n",
       " 'booter': 113,\n",
       " 'halwa': 156,\n",
       " 'and': 75565,\n",
       " 'pudding': 324,\n",
       " 'is': 62786,\n",
       " 'good': 89312,\n",
       " 'fresh': 6378,\n",
       " 'tasty': 9177,\n",
       " 'everything': 2808,\n",
       " 'i': 62400,\n",
       " 'ordered': 23740,\n",
       " 'was': 139706,\n",
       " 'kalo': 141,\n",
       " 'jira': 22,\n",
       " 'vhorta': 74,\n",
       " 'balu': 36,\n",
       " 'not': 79044,\n",
       " 'recommended': 2941,\n",
       " 'baki': 321,\n",
       " 'shob': 635,\n",
       " 'valo': 7761,\n",
       " 'chilo': 13538,\n",
       " 'quantity': 20002,\n",
       " 'of': 49486,\n",
       " 'dal': 2370,\n",
       " 'should': 7600,\n",
       " 'be': 12301,\n",
       " 'little': 5803,\n",
       " 'more': 8512,\n",
       " 'otherwise': 1313,\n",
       " 'specially': 268,\n",
       " 'beef': 10936,\n",
       " 'poor': 10046,\n",
       " 'size': 6930,\n",
       " 'aganist': 1,\n",
       " 'price': 14758,\n",
       " 'test': 6766,\n",
       " 'chicken': 42144,\n",
       " 'up': 4697}"
      ]
     },
     "execution_count": 33,
     "metadata": {},
     "output_type": "execute_result"
    }
   ],
   "source": [
    "import itertools\n",
    "\n",
    "word_count = tokenizer.word_counts # count of all words in corpus\n",
    "dict(itertools.islice(dict(word_count).items(), 50))"
   ]
  },
  {
   "cell_type": "code",
   "execution_count": 34,
   "id": "0a73b022",
   "metadata": {},
   "outputs": [
    {
     "name": "stdout",
     "output_type": "stream",
     "text": [
      "['the', 'was', 'good', 'not', 'and', 'food', 'is', 'i', 'it', 'but', 'of', 'very', 'chicken', 'to', 'a', 'bad', 'taste', 'they', 'in', 'order', 'ordered', 'quality', 'so', 'too', 'quantity', 'for', 'with', 'rice', 'this', 'burger', 'were', 'price', 'did', 'meat', 'pizza', 'no', 'as', 'chilo', 'my', 'that', 'you', 'have', 'like', 'much', 'from', 'be', 'all', 'time', 'ta', 'worst']\n"
     ]
    }
   ],
   "source": [
    "sorted_word_count = sorted(word_count.items(), key=lambda x: x[1], reverse=True)\n",
    "\n",
    "# Take the top 50 words\n",
    "top_50_words = dict(itertools.islice(sorted_word_count, 50))\n",
    "\n",
    "# Display the top 50 words in a list\n",
    "top_50_list = list(top_50_words.keys())\n",
    "print(top_50_list)"
   ]
  },
  {
   "cell_type": "code",
   "execution_count": 38,
   "id": "f1d415ef",
   "metadata": {
    "scrolled": false
   },
   "outputs": [
    {
     "name": "stdout",
     "output_type": "stream",
     "text": [
      "the: 155338\n",
      "was: 139706\n",
      "good: 89312\n",
      "not: 79044\n",
      "and: 75565\n",
      "food: 72332\n",
      "is: 62786\n",
      "i: 62400\n",
      "it: 56166\n",
      "but: 50065\n",
      "of: 49486\n",
      "very: 49480\n",
      "chicken: 42144\n",
      "to: 36464\n",
      "a: 34332\n",
      "bad: 30647\n",
      "taste: 30584\n",
      "they: 30341\n",
      "in: 29714\n",
      "order: 24556\n",
      "ordered: 23740\n",
      "quality: 22825\n",
      "so: 22321\n",
      "too: 22028\n",
      "quantity: 20002\n",
      "for: 19059\n",
      "with: 17587\n",
      "rice: 17183\n",
      "this: 16515\n",
      "burger: 15374\n",
      "were: 14975\n",
      "price: 14758\n",
      "did: 14708\n",
      "meat: 14497\n",
      "pizza: 13997\n",
      "no: 13550\n",
      "as: 13549\n",
      "chilo: 13538\n",
      "my: 13161\n",
      "that: 13149\n",
      "you: 13009\n",
      "have: 12873\n",
      "like: 12856\n",
      "much: 12485\n",
      "from: 12458\n",
      "be: 12301\n",
      "all: 12040\n",
      "time: 11376\n",
      "ta: 11332\n",
      "worst: 11054\n",
      "beef: 10936\n",
      "one: 10839\n",
      "best: 10811\n",
      "less: 10682\n",
      "are: 10561\n",
      "there: 10505\n",
      "me: 10049\n",
      "poor: 10046\n",
      "sauce: 9977\n",
      "delivery: 9926\n",
      "at: 9695\n",
      "their: 9657\n",
      "cold: 9617\n",
      "tasty: 9177\n",
      "really: 9171\n",
      "small: 9052\n",
      "had: 8925\n",
      "do: 8890\n",
      "money: 8723\n",
      "amount: 8685\n",
      "just: 8559\n",
      "also: 8525\n",
      "more: 8512\n",
      "delicious: 8107\n",
      "na: 8006\n",
      "fried: 7772\n",
      "valo: 7761\n",
      "er: 7707\n",
      "should: 7600\n",
      "gave: 7534\n",
      "give: 7426\n",
      "better: 7403\n",
      "always: 7290\n",
      "great: 6954\n",
      "size: 6930\n",
      "average: 6913\n",
      "test: 6766\n",
      "on: 6704\n",
      "packaging: 6615\n",
      "excellent: 6598\n",
      "will: 6596\n",
      "got: 6586\n",
      "only: 6568\n",
      "ever: 6492\n",
      "e: 6468\n",
      "fresh: 6378\n",
      "than: 6324\n",
      "khabar: 6165\n",
      "pieces: 6162\n",
      "s: 6108\n",
      "spicy: 6032\n",
      "fries: 5959\n",
      "little: 5803\n",
      "piece: 5767\n",
      "if: 5721\n",
      "restaurant: 5706\n",
      "service: 5674\n",
      "cheese: 5672\n",
      "disappointed: 5668\n",
      "pasta: 5605\n",
      "r: 5445\n",
      "portion: 5392\n",
      "never: 5322\n",
      "even: 5239\n",
      "baje: 5170\n",
      "salad: 5079\n",
      "low: 4984\n",
      "enough: 4957\n",
      "meal: 4905\n",
      "khichuri: 4830\n",
      "again: 4799\n",
      "experience: 4797\n",
      "nai: 4784\n",
      "could: 4717\n",
      "up: 4697\n",
      "dry: 4687\n",
      "eat: 4648\n",
      "kom: 4647\n",
      "get: 4645\n",
      "bit: 4602\n",
      "can: 4421\n",
      "soup: 4402\n",
      "tasted: 4342\n",
      "which: 4333\n",
      "delivered: 4274\n",
      "late: 4273\n",
      "item: 4253\n",
      "mutton: 4245\n",
      "them: 4244\n",
      "kacchi: 4242\n",
      "well: 4107\n",
      "before: 4069\n",
      "tk: 4066\n",
      "smell: 4060\n",
      "any: 4059\n",
      "or: 4039\n",
      "box: 4021\n",
      "waste: 4005\n",
      "after: 3993\n",
      "has: 3911\n",
      "items: 3903\n",
      "please: 3893\n",
      "today: 3885\n",
      "totally: 3861\n",
      "would: 3856\n",
      "disappointing: 3851\n",
      "nice: 3841\n",
      "what: 3824\n",
      "disgusting: 3786\n",
      "your: 3754\n",
      "given: 3736\n",
      "taka: 3723\n",
      "hard: 3707\n",
      "awesome: 3707\n",
      "its: 3691\n",
      "cooked: 3590\n",
      "took: 3578\n",
      "missing: 3533\n",
      "o: 3515\n",
      "khub: 3512\n",
      "stale: 3506\n",
      "rotten: 3503\n",
      "been: 3411\n",
      "provide: 3378\n",
      "cake: 3376\n",
      "amazing: 3372\n",
      "oil: 3357\n",
      "fry: 3295\n",
      "ar: 3279\n",
      "day: 3270\n",
      "half: 3249\n",
      "love: 3238\n",
      "wrong: 3229\n",
      "full: 3187\n",
      "two: 3149\n",
      "yummy: 3146\n",
      "by: 3083\n",
      "tehari: 3077\n",
      "onk: 3053\n",
      "overall: 3048\n",
      "worth: 3033\n",
      "ok: 3023\n",
      "we: 3021\n",
      "wings: 3021\n",
      "onek: 2987\n",
      "here: 2984\n",
      "other: 2958\n",
      "recommended: 2941\n",
      "naan: 2887\n",
      "extra: 2871\n"
     ]
    }
   ],
   "source": [
    "top_50_words = dict(itertools.islice(sorted_word_count, 200))\n",
    "\n",
    "# Display the top 50 words and their occurrences\n",
    "for word, count in top_50_words.items():\n",
    "    print(f'{word}: {count}')"
   ]
  },
  {
   "cell_type": "code",
   "execution_count": 1,
   "id": "38f15598",
   "metadata": {},
   "outputs": [],
   "source": [
    "from sklearn.feature_extraction.text import TfidfVectorizer"
   ]
  },
  {
   "cell_type": "code",
   "execution_count": 5,
   "id": "15d104c1",
   "metadata": {},
   "outputs": [],
   "source": [
    "documents = [\n",
    "    \"too much small amount.\",\n",
    "    \"very small in amount\",\n",
    "    \" fresh and tasty.\",\n",
    "    \"everything i ordered was good\",\n",
    "]"
   ]
  },
  {
   "cell_type": "code",
   "execution_count": 6,
   "id": "c29f74c1",
   "metadata": {},
   "outputs": [],
   "source": [
    "# Create the TF-IDF vectorizer\n",
    "tfidf_vectorizer = TfidfVectorizer()\n",
    "\n",
    "# Fit and transform the documents\n",
    "tfidf_matrix = tfidf_vectorizer.fit_transform(documents)\n"
   ]
  },
  {
   "cell_type": "code",
   "execution_count": 7,
   "id": "180904da",
   "metadata": {},
   "outputs": [
    {
     "name": "stdout",
     "output_type": "stream",
     "text": [
      "              amount      and  everything    fresh  good        in      much  \\\n",
      "Document 1  0.437791  0.00000         0.0  0.00000   0.0  0.000000  0.555283   \n",
      "Document 2  0.437791  0.00000         0.0  0.00000   0.0  0.555283  0.000000   \n",
      "Document 3  0.000000  0.57735         0.0  0.57735   0.0  0.000000  0.000000   \n",
      "Document 4  0.000000  0.00000         0.5  0.00000   0.5  0.000000  0.000000   \n",
      "\n",
      "            ordered     small    tasty       too      very  was  \n",
      "Document 1      0.0  0.437791  0.00000  0.555283  0.000000  0.0  \n",
      "Document 2      0.0  0.437791  0.00000  0.000000  0.555283  0.0  \n",
      "Document 3      0.0  0.000000  0.57735  0.000000  0.000000  0.0  \n",
      "Document 4      0.5  0.000000  0.00000  0.000000  0.000000  0.5  \n"
     ]
    }
   ],
   "source": [
    "# Get feature names (words) and document names\n",
    "feature_names = tfidf_vectorizer.get_feature_names_out()\n",
    "document_names = [f\"Document {i+1}\" for i in range(len(documents))]\n",
    "\n",
    "# Create a DataFrame for better visualization\n",
    "import pandas as pd\n",
    "tfidf_df = pd.DataFrame(data=tfidf_matrix.toarray(), columns=feature_names, index=document_names)\n",
    "\n",
    "# Print the DataFrame\n",
    "print(tfidf_df)\n"
   ]
  },
  {
   "cell_type": "code",
   "execution_count": null,
   "id": "e2ca7b66",
   "metadata": {},
   "outputs": [],
   "source": []
  },
  {
   "cell_type": "code",
   "execution_count": null,
   "id": "db9a3942",
   "metadata": {},
   "outputs": [],
   "source": []
  },
  {
   "cell_type": "code",
   "execution_count": null,
   "id": "14baeab5",
   "metadata": {},
   "outputs": [],
   "source": []
  }
 ],
 "metadata": {
  "kernelspec": {
   "display_name": "Python 3 (ipykernel)",
   "language": "python",
   "name": "python3"
  },
  "language_info": {
   "codemirror_mode": {
    "name": "ipython",
    "version": 3
   },
   "file_extension": ".py",
   "mimetype": "text/x-python",
   "name": "python",
   "nbconvert_exporter": "python",
   "pygments_lexer": "ipython3",
   "version": "3.9.18"
  }
 },
 "nbformat": 4,
 "nbformat_minor": 5
}
